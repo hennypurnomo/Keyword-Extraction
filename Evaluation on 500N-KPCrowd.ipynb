{
 "cells": [
  {
   "cell_type": "code",
   "execution_count": 1,
   "metadata": {},
   "outputs": [
    {
     "name": "stderr",
     "output_type": "stream",
     "text": [
      "2018-08-27 17:22:13,458: DEBUG: CACHEDIR=C:\\Users\\user\\.matplotlib\n",
      "2018-08-27 17:22:13,489: DEBUG: Using fontManager instance from C:\\Users\\user\\.matplotlib\\fontList.json\n",
      "2018-08-27 17:22:13,708: DEBUG: backend module://ipykernel.pylab.backend_inline version unknown\n",
      "2018-08-27 17:22:13,817: DEBUG: backend module://ipykernel.pylab.backend_inline version unknown\n"
     ]
    }
   ],
   "source": [
    "#This file contains noun phrase and n-gram filters on 500N-KPCrowd dataset\n",
    "\n",
    "import glob, os, utils, preprocessing\n",
    "import generate_candidate, feature_extraction, generate_keyphrase\n",
    "from natsort import natsorted"
   ]
  },
  {
   "cell_type": "code",
   "execution_count": null,
   "metadata": {
    "scrolled": true
   },
   "outputs": [],
   "source": [
    "#only run one time, if pickles have been generated, please skip into next step\n",
    "\n",
    "#load and create training data\n",
    "train_directory = natsorted(glob.glob('./data/500N-KPCrowd/train/*.xml'))\n",
    "train_raw = preprocessing.load_xml_non_title(train_directory)\n",
    "pickle_train_raw = utils.create_pickle(train_raw,'./pickle/500N-KPCrowd/train raw')\n",
    "train_data = preprocessing.create_xml_corpus(train_raw)\n",
    "pickle_train_data = utils.create_pickle(train_data,'./pickle/500N-KPCrowd/train data')\n",
    "train_tf_corpus = feature_extraction.calculate_tf(train_data, vocab = None, type = 'ngram')\n",
    "pickle_train_tf_corpus = utils.create_pickle(train_tf_corpus,'./pickle/500N-KPCrowd/train tf corpus')\n",
    "\n",
    "#load and create testing data\n",
    "test_directory = natsorted(glob.glob('./data/500N-KPCrowd/test/*.xml'))\n",
    "test_raw = preprocessing.load_xml_non_title(test_directory)\n",
    "pickle_test_raw = utils.create_pickle(test_raw,'./pickle/500N-KPCrowd/test raw')\n",
    "test_data = preprocessing.create_xml_corpus(test_raw)\n",
    "pickle_test_data = utils.create_pickle(test_data,'./pickle/500N-KPCrowd/test data')\n",
    "test_tf_corpus = feature_extraction.calculate_tf(test_data, vocab = None, type = 'ngram')\n",
    "pickle_test_tf_corpus = utils.create_pickle(test_tf_corpus,'./pickle/500N-KPCrowd/test tf corpus')\n",
    "\n",
    "#create training label\n",
    "train_label_directory = open('./data/500N-KPCrowd/references/train.reader.stem.json')\n",
    "train_label = preprocessing.extract_json_label(train_label_directory, raw_data = train_raw, \n",
    "                                               file_type='news')\n",
    "train_label_pickle = utils.create_pickle(train_label, './pickle/500N-KPCrowd/train label')\n",
    "\n",
    "#create testing label\n",
    "test_label_directory = open('./data/500N-KPCrowd/references/test.reader.stem.json')\n",
    "test_label = preprocessing.extract_json_label(test_label_directory, raw_data = test_raw, \n",
    "                                              file_type='news')\n",
    "test_label_pickle = utils.create_pickle(test_label, './pickle/500N-KPCrowd/test label')\n",
    "\n",
    "\n",
    "#create candidates based on n-gram and store into pickle of training data\n",
    "print(\"Generating n-gram candidates..\")\n",
    "ngram_candidates = generate_candidate.calculate_tfidf(train_data, vocab=None, type='ngram') \n",
    "pickle_ngram_candidates = utils.create_pickle(ngram_candidates, \n",
    "                                              './pickle/500N-KPCrowd/ngram candidates')\n",
    "\n",
    "#create candidates based on n-gram and store into pickle of testing data\n",
    "test_ngram_candidates = generate_candidate.calculate_tfidf(test_data, vocab=None, type='ngram') \n",
    "pickle_test_ngram_candidates = utils.create_pickle(test_ngram_candidates, \n",
    "                                    './pickle/500N-KPCrowd/test ngram candidates')\n",
    "\n",
    "\n",
    "#create candidates based on noun phrase and store into pickle of training data\n",
    "print(\"Generating noun phrase candidates..\")\n",
    "nounphrase_vocabulary = generate_candidate.create_phrase_vocabulary(train_data)\n",
    "train_tf_nounphrase_corpus = feature_extraction.calculate_tf(train_data, \n",
    "                            vocab = nounphrase_vocabulary, type = 'np')\n",
    "pickle_train_tf_nounphrase_corpus = utils.create_pickle(train_tf_nounphrase_corpus,\n",
    "                            './pickle/500N-KPCrowd/train tf nounphrase corpus')\n",
    "nounphrase_candidates = generate_candidate.calculate_tfidf(train_data, \n",
    "                            nounphrase_vocabulary, type='np')\n",
    "pickle_nounphrase_candidates = utils.create_pickle(nounphrase_candidates, \n",
    "                            './pickle/500N-KPCrowd/nounphrase candidates')\n",
    "\n",
    "#create candidates based on noun phrase and store into pickle of testing data\n",
    "test_nounphrase_vocabulary = generate_candidate.create_phrase_vocabulary(test_data)\n",
    "test_tf_nounphrase_corpus = feature_extraction.calculate_tf(test_data, \n",
    "                            vocab = test_nounphrase_vocabulary, type = 'np')\n",
    "pickle_test_tf_nounphrase_corpus = utils.create_pickle(test_tf_nounphrase_corpus,\n",
    "                            './pickle/500N-KPCrowd/test tf nounphrase corpus')\n",
    "test_nounphrase_candidates = generate_candidate.calculate_tfidf(test_data, \n",
    "                            test_nounphrase_vocabulary, type='np')\n",
    "pickle_test_nounphrase_candidates = utils.create_pickle(test_nounphrase_candidates, \n",
    "                            './pickle/500N-KPCrowd/test nounphrase candidates')\n",
    "\n",
    "#create a dictionary supervised keyphraseness on ngram filter\n",
    "supervised_key = feature_extraction.create_supervised_list(train_label, train_tf_corpus)\n",
    "supervised_corpus = utils.create_pickle(supervised_key, './pickle/500N-KPCrowd/supervised keyphraseness')\n",
    "\n",
    "#create a dictionary supervised keyphraseness on noun phrase filter\n",
    "np_supervised_key = feature_extraction.create_supervised_list(train_label, train_tf_nounphrase_corpus)\n",
    "np_supervised_corpus = utils.create_pickle(np_supervised_key, './pickle/500N-KPCrowd/np supervised keyphraseness')\n"
   ]
  },
  {
   "cell_type": "code",
   "execution_count": 2,
   "metadata": {
    "scrolled": false
   },
   "outputs": [
    {
     "name": "stdout",
     "output_type": "stream",
     "text": [
      "Opening all pickles\n",
      "Evaluation on n-gram filter..\n",
      "Fmeasure on full features:\n",
      "Precision, recall, f-measure on top 50 keyphrase - ngram filter: [('LR', (35.64, 38.57, 37.05))]\n",
      "Evaluation on noun phrase filter..\n",
      "Fmeasure on full features:\n",
      "Precision, recall, f-measure on top 50 keyphrase - nounphrase filter: [('LR', (28.2, 30.52, 29.31))]\n"
     ]
    }
   ],
   "source": [
    "#evaluate the pipeline\n",
    "\n",
    "#input the number of keyphrase, the default number is 50\n",
    "number_keyphrase = 50\n",
    "\n",
    "#open all relevant pickles\n",
    "print(\"Opening all pickles\")\n",
    "train_raw = utils.open_pickle('./pickle/500N-KPCrowd/train raw')\n",
    "train_data = utils.open_pickle('./pickle/500N-KPCrowd/train data')\n",
    "\n",
    "train_label = utils.open_pickle('./pickle/500N-KPCrowd/train label')\n",
    "train_tf_corpus = utils.open_pickle('./pickle/500N-KPCrowd/train tf corpus')\n",
    "\n",
    "test_raw = utils.open_pickle('./pickle/500N-KPCrowd/test raw')\n",
    "test_data = utils.open_pickle('./pickle/500N-KPCrowd/test data')\n",
    "\n",
    "test_label = utils.open_pickle('./pickle/500N-KPCrowd/test label')\n",
    "test_tf_corpus = utils.open_pickle('./pickle/500N-KPCrowd/test tf corpus')\n",
    "\n",
    "train_topics = utils.open_pickle('./pickle/500N-KPCrowd/train topics')\n",
    "test_topics = utils.open_pickle('./pickle/500N-KPCrowd/test topics')\n",
    "\n",
    "ngram_candidates = utils.open_pickle('./pickle/500N-KPCrowd/ngram candidates')\n",
    "test_ngram_candidates = utils.open_pickle('./pickle/500N-KPCrowd/test ngram candidates')\n",
    "\n",
    "train_tf_nounphrase_corpus = utils.open_pickle('./pickle/500N-KPCrowd/train tf nounphrase corpus')\n",
    "test_tf_nounphrase_corpus = utils.open_pickle('./pickle/500N-KPCrowd/test tf nounphrase corpus')\n",
    "\n",
    "nounphrase_candidates = utils.open_pickle('./pickle/500N-KPCrowd/nounphrase candidates')\n",
    "test_nounphrase_candidates = utils.open_pickle('./pickle/500N-KPCrowd/test nounphrase candidates')\n",
    "\n",
    "supervised_corpus = utils.open_pickle('./pickle/500N-KPCrowd/supervised keyphraseness')\n",
    "np_supervised_key = utils.open_pickle('./pickle/500N-KPCrowd/np supervised keyphraseness')\n",
    "\n",
    "\n",
    "#create examples on training and testing data\n",
    "#uncomment if the pickles are not available\n",
    "'''\n",
    "print(\"Creating examples of n-gram on training and testing data..\")\n",
    "ngram_train = feature_extraction.create_features(train_data, ngram_candidates, train_label, \n",
    "                supervised_corpus, train_tf_corpus, train_topics, name='./csv/500N-KPCrowd/train_ngram',\n",
    "                n_keyphrase = number_keyphrase)\n",
    "\n",
    "ngram_test = feature_extraction.create_features(test_data, test_ngram_candidates, test_label, \n",
    "                supervised_corpus, test_tf_corpus, test_topics, name='./csv/500N-KPCrowd/test_ngram',\n",
    "                n_keyphrase = number_keyphrase)\n",
    "\n",
    "\n",
    "print(\"Creating examples of noun phrase on training and testing data..\")\n",
    "nounphrase_train = feature_extraction.create_features(train_data,\n",
    "                nounphrase_candidates, train_label, np_supervised_key, train_tf_nounphrase_corpus, \n",
    "                train_topics, name='./csv/500N-KPCrowd/train_nounphrase', \n",
    "                n_keyphrase = number_keyphrase) \n",
    "\n",
    "nounphrase_test = feature_extraction.create_features(test_data, \n",
    "                test_nounphrase_candidates, test_label, np_supervised_key, test_tf_nounphrase_corpus, \n",
    "                test_topics, name='./csv/500N-KPCrowd/test_nounphrase', \n",
    "                n_keyphrase = number_keyphrase)\n",
    "'''\n",
    "\n",
    "#evaluation\n",
    "print(\"Evaluation on n-gram filter..\")\n",
    "ngram_prediction = generate_keyphrase.predict_data(test_ngram_candidates, test_label, \n",
    "                train_data='./csv/500N-KPCrowd/train_ngram', \n",
    "                test_data='./csv/500N-KPCrowd/test_ngram', \n",
    "                n_keyphrase = number_keyphrase)\n",
    "print('Precision, recall, f-measure on top 50 keyphrase - ngram filter:', ngram_prediction)\n",
    "\n",
    "#generate the result of prediction into excel\n",
    "ngram_prediction_keyphrase = generate_keyphrase.get_predicted_keyphrases(test_nounphrase_candidates,\n",
    "                    train_data='./csv/500N-KPCrowd/train_ngram', \n",
    "                    test_data='./csv/500N-KPCrowd/test_ngram', \n",
    "                    csv_name='./csv/500N-KPCrowd/predicted ngram keyphrases 50 keywords', \n",
    "                    n_keyphrase = number_keyphrase)\n",
    "\n",
    "\n",
    "#evaluation\n",
    "print(\"Evaluation on noun phrase filter..\")\n",
    "np_prediction = generate_keyphrase.predict_data(test_nounphrase_candidates, test_label, \n",
    "                train_data='./csv/500N-KPCrowd/train_nounphrase', \n",
    "                test_data='./csv/500N-KPCrowd/test_nounphrase', \n",
    "                n_keyphrase = number_keyphrase)\n",
    "print('Precision, recall, f-measure on top 50 keyphrase - nounphrase filter:', np_prediction)\n",
    "\n",
    "#generate the result of prediction into excel\n",
    "np_prediction_keyphrase = generate_keyphrase.get_predicted_keyphrases(test_nounphrase_candidates,\n",
    "                    train_data='./csv/500N-KPCrowd/train_nounphrase', \n",
    "                    test_data='./csv/500N-KPCrowd/test_nounphrase', \n",
    "                    csv_name='./csv/500N-KPCrowd/predicted np keyphrases 50 keywords', \n",
    "                    n_keyphrase = number_keyphrase)"
   ]
  },
  {
   "cell_type": "code",
   "execution_count": 3,
   "metadata": {},
   "outputs": [
    {
     "name": "stdout",
     "output_type": "stream",
     "text": [
      "Evaluation on n-gram filter..\n",
      "Fmeasure on full features:\n",
      "Precision, recall, f-measure on top 10 candidates - ngram: [('LR', (59.0, 12.77, 21.0))]\n",
      "Evaluation on noun phrase filter..\n",
      "Fmeasure on full features:\n",
      "Precision, recall, f-measure on top 10 keyphrase - nounphrase: [('LR', (59.4, 12.86, 21.14))]\n"
     ]
    }
   ],
   "source": [
    "#another evaluation to generate top 10 keyphrase\n",
    "\n",
    "number_keyphrase2 = 10\n",
    "\n",
    "#evaluation\n",
    "print(\"Evaluation on n-gram filter..\")\n",
    "ngram_prediction = generate_keyphrase.predict_data(test_ngram_candidates, test_label, \n",
    "                train_data='./csv/500N-KPCrowd/train_ngram', \n",
    "                test_data='./csv/500N-KPCrowd/test_ngram', \n",
    "                n_keyphrase = number_keyphrase2)\n",
    "print('Precision, recall, f-measure on top 10 candidates - ngram:', ngram_prediction)\n",
    "\n",
    "#generate the result of prediction into excel\n",
    "ngram_prediction_keyphrase = generate_keyphrase.get_predicted_keyphrases(test_ngram_candidates,\n",
    "                    train_data='./csv/500N-KPCrowd/train_ngram', \n",
    "                    test_data='./csv/500N-KPCrowd/test_ngram', \n",
    "                    csv_name='./csv/500N-KPCrowd/predicted ngram keyphrases 10 keywords', \n",
    "                    n_keyphrase = number_keyphrase2)\n",
    "\n",
    "\n",
    "#evaluation\n",
    "print(\"Evaluation on noun phrase filter..\")\n",
    "np_prediction = generate_keyphrase.predict_data(test_nounphrase_candidates, test_label, \n",
    "                train_data='./csv/500N-KPCrowd/train_nounphrase', \n",
    "                test_data='./csv/500N-KPCrowd/test_nounphrase', \n",
    "                n_keyphrase = number_keyphrase2)\n",
    "print('Precision, recall, f-measure on top 10 keyphrase - nounphrase:', np_prediction)\n",
    "\n",
    "#generate the result of prediction into excel\n",
    "np_prediction_keyphrase = generate_keyphrase.get_predicted_keyphrases(test_nounphrase_candidates,\n",
    "                    train_data='./csv/500N-KPCrowd/train_nounphrase', \n",
    "                    test_data='./csv/500N-KPCrowd/test_nounphrase', \n",
    "                    csv_name='./csv/500N-KPCrowd/predicted np keyphrases 10 keywords', \n",
    "                    n_keyphrase = number_keyphrase2)\n"
   ]
  },
  {
   "cell_type": "code",
   "execution_count": 4,
   "metadata": {},
   "outputs": [
    {
     "name": "stderr",
     "output_type": "stream",
     "text": [
      "2018-08-27 17:22:52,248: DEBUG: findfont: Matching :family=sans-serif:style=normal:variant=normal:weight=normal:stretch=normal:size=10.0 to DejaVu Sans ('C:\\\\Users\\\\user\\\\AppData\\\\Roaming\\\\Python\\\\Python35\\\\site-packages\\\\matplotlib\\\\mpl-data\\\\fonts\\\\ttf\\\\DejaVuSans.ttf') with score of 0.050000\n",
      "2018-08-27 17:22:52,327: DEBUG: findfont: Matching :family=sans-serif:style=normal:variant=normal:weight=normal:stretch=normal:size=12.0 to DejaVu Sans ('C:\\\\Users\\\\user\\\\AppData\\\\Roaming\\\\Python\\\\Python35\\\\site-packages\\\\matplotlib\\\\mpl-data\\\\fonts\\\\ttf\\\\DejaVuSans.ttf') with score of 0.050000\n"
     ]
    },
    {
     "data": {
      "image/png": "[encoded data removed]",
      "text/plain": [
       "<Figure size 432x288 with 1 Axes>"
      ]
     },
     "metadata": {},
     "output_type": "display_data"
    },
    {
     "name": "stdout",
     "output_type": "stream",
     "text": [
      "Feature importance on noun phrase filter: None\n"
     ]
    }
   ],
   "source": [
    "#calculate feature importance\n",
    "weight = generate_keyphrase.feature_importance(train_data = './csv/500N-KPCrowd/train_nounphrase_data.csv',\n",
    "                                            test_data = './csv/500N-KPCrowd/test_nounphrase_data.csv',\n",
    "                                            name = '500N-KPCrowd')\n",
    "print('Feature importance on noun phrase filter:', weight)"
   ]
  },
  {
   "cell_type": "code",
   "execution_count": null,
   "metadata": {},
   "outputs": [],
   "source": []
  }
 ],
 "metadata": {
  "kernelspec": {
   "display_name": "Python 3",
   "language": "python",
   "name": "python3"
  },
  "language_info": {
   "codemirror_mode": {
    "name": "ipython",
    "version": 3
   },
   "file_extension": ".py",
   "mimetype": "text/x-python",
   "name": "python",
   "nbconvert_exporter": "python",
   "pygments_lexer": "ipython3",
   "version": "3.5.3"
  }
 },
 "nbformat": 4,
 "nbformat_minor": 2
}
