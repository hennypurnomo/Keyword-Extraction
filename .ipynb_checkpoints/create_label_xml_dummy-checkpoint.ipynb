{
 "cells": [
  {
   "cell_type": "code",
   "execution_count": 2,
   "metadata": {},
   "outputs": [
    {
     "name": "stdout",
     "output_type": "stream",
     "text": [
      "business-20926282\n",
      "['higher', 'nice', 'kraton', 'price', 'materi', 'volum', '420', 'soar', 'expect', 'estim', 'lubric', 'pave', 'last', 'ground', 'ohio', 'zackscom', 'manufactur', 'compani', 'addit', 'averag', '42', 'roe', 'trend', 'germani franc brazil japan', 'curti hesler', 'zack valu trader servic', 'silver wheaton', 'north america', 'consensu', '60 countri', 'bullish', 'styren block copolym', '5 plant', 'engin', 'chemic compani', 'pricetobook ratio', 'lubric footwear', 'pe', 'earn growth', 'adhes coat person care product sealant', '245', 'global', 'stellar return', 'roof', 'plastic', 'roof', 'polym']\n"
     ]
    }
   ],
   "source": [
    "import json\n",
    "from collections import OrderedDict\n",
    "from itertools import chain\n",
    "import preprocessing\n",
    "from natsort import natsorted\n",
    "import glob\n",
    "\n",
    "#test = label\n",
    "train_directory = natsorted(glob.glob('./data/500N-KPCrowd/train/*.xml'))\n",
    "train_raw = preprocessing.load_xml_non_title(train_directory)\n",
    "print(train_raw[50]['doc_id'])\n",
    "\n",
    "inspec_train_contr_label_directory = open('./data/500N-KPCrowd/references/train.reader.stem.json')\n",
    "label = preprocessing.extract_json_label(inspec_train_contr_label_directory, raw_data = train_raw, file_type='news')\n",
    "print(label[50])"
   ]
  },
  {
   "cell_type": "code",
   "execution_count": null,
   "metadata": {},
   "outputs": [],
   "source": []
  },
  {
   "cell_type": "code",
   "execution_count": null,
   "metadata": {},
   "outputs": [],
   "source": [
    "#tp=[5,7,4,5]\n",
    "#fp=[5,3,6,6]\n",
    "#fn=[5,5,5,3]\n",
    "true_positive = 21/4\n",
    "false_positive = 20/4\n",
    "false_negative = 18/4\n",
    "    \n",
    "    #matched/total top n\n",
    "precision = float(\"{0:.2F}\".format(true_positive / (false_positive + true_positive) * 100))\n",
    "    #matched/total gold standard\n",
    "recall = float(\"{0:.2F}\".format(true_positive / (false_negative + true_positive) * 100))\n",
    "    # calculate with micro averaged precision\n",
    "f_measure = float(\"{0:.2F}\".format(2 * (precision * recall) / (precision + recall)))\n",
    "print(precision, recall, f_measure)"
   ]
  },
  {
   "cell_type": "code",
   "execution_count": null,
   "metadata": {},
   "outputs": [],
   "source": []
  },
  {
   "cell_type": "code",
   "execution_count": null,
   "metadata": {},
   "outputs": [],
   "source": []
  },
  {
   "cell_type": "code",
   "execution_count": 7,
   "metadata": {},
   "outputs": [
    {
     "name": "stdout",
     "output_type": "stream",
     "text": [
      "crime-20948990\n",
      "['parti', 'allegedli assault', 'trenton', 'happen', 'nj', 'probat', 'prosecut', 'plead guilti', 'trespass', 'eventu', 'dna', 'trenton', 'author', '7yearold', \"owner' permiss\", 'charg', 'for sex ha', 'jersey', '15yearold', 'timear', 'particip', 'initi', 'bargain', 'sentenc', 'friday', 'lesser offens', 'gangrap', 'child sex', 'plead guilti', 'vari account', 'lesser', 'plead', 'man', 'charg in', 'get probat', 'sex', 'child', 'offens', 'guilti to', 'case after']\n"
     ]
    }
   ],
   "source": [
    "###testing label\n",
    "import utils\n",
    "\n",
    "train_raw = utils.open_pickle('./pickle/500N-KPCrowd/train raw')\n",
    "train_label = utils.open_pickle('./pickle/500N-KPCrowd/train label')\n",
    "test_raw = utils.open_pickle('./pickle/500N-KPCrowd/test raw')\n",
    "test_label = utils.open_pickle('./pickle/500N-KPCrowd/test label')\n",
    "\n",
    "print(train_raw[125]['doc_id'])\n",
    "print(train_label[125])"
   ]
  },
  {
   "cell_type": "code",
   "execution_count": null,
   "metadata": {},
   "outputs": [],
   "source": []
  }
 ],
 "metadata": {
  "kernelspec": {
   "display_name": "Python 3",
   "language": "python",
   "name": "python3"
  },
  "language_info": {
   "codemirror_mode": {
    "name": "ipython",
    "version": 3
   },
   "file_extension": ".py",
   "mimetype": "text/x-python",
   "name": "python",
   "nbconvert_exporter": "python",
   "pygments_lexer": "ipython3",
   "version": "3.5.3"
  }
 },
 "nbformat": 4,
 "nbformat_minor": 2
}
