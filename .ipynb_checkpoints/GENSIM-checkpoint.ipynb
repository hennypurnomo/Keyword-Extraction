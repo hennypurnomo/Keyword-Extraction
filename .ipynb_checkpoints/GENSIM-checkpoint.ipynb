{
 "cells": [
  {
   "cell_type": "code",
   "execution_count": 1,
   "metadata": {
    "collapsed": true,
    "scrolled": true
   },
   "outputs": [],
   "source": [
    "import glob, os, re, string, itertools\n",
    "import xml.etree.ElementTree as et\n",
    "import pickle, json\n",
    "\n",
    "from nltk.stem.porter import *\n",
    "from collections import defaultdict\n",
    "from nltk import word_tokenize, pos_tag, pos_tag_sents\n",
    "from nltk.corpus import wordnet, stopwords\n",
    "from nltk.chunk.regexp import RegexpParser\n",
    "from nltk.chunk import tree2conlltags\n",
    "from pandas import DataFrame\n",
    "from itertools import chain\n",
    "from sklearn.feature_extraction.text import TfidfVectorizer\n",
    "from sklearn.feature_extraction import text\n",
    "import numpy as np\n",
    "from scipy.sparse.csr import csr_matrix"
   ]
  },
  {
   "cell_type": "code",
   "execution_count": null,
   "metadata": {},
   "outputs": [],
   "source": [
    "def clean(input_list):\n",
    "    result=[]\n",
    "    trash=[]\n",
    "    legit=[]\n",
    "    #remove unwanted character per line\n",
    "    for line in input_list:\n",
    "        clean=re.sub(\"(\\.)?\\n\",'', line) #remove \\n\n",
    "        #check if line only contains 2 words, is it exist on wordnet?\n",
    "        if len(word_tokenize(clean))<=2 and not wordnet.synsets(clean):\n",
    "            trash.append(clean)\n",
    "        elif len(word_tokenize(clean))==1:\n",
    "            trash.append(clean)\n",
    "        else:\n",
    "            clean=re.sub(\"'s\",'', clean) #remove [2]\n",
    "            clean=re.sub(\"\\[([0-9]{1,2}\\,?\\s?)+\\]\",'', clean) #remove [2]\n",
    "            clean=re.sub(\"\\(([0-9]{1,2}\\,?\\s?)+\\)\",'', clean) #remove (2)\n",
    "            #retain words in () or []\n",
    "            #remove fig. 2 etc, need improvement to catch the sentence after it\n",
    "            clean=re.sub(\"([Ff]ig.|[Ff]igure|[Tt]ab.|[Tt]able)\\s?[0-9]{1,2}\",'', clean) #remove fig. 2 etc\n",
    "            legit.append(clean)\n",
    "        result.append(clean)\n",
    "    return result"
   ]
  },
  {
   "cell_type": "code",
   "execution_count": null,
   "metadata": {},
   "outputs": [],
   "source": [
    "def load_files(path):\n",
    "    raw=[]\n",
    "    for file in path:\n",
    "        dict_doc={'doc_id': None, 'title': None, 'abstract': None, 'full-text': None, 'candidates': None}\n",
    "        file_id=os.path.basename(file).rstrip('.txt.final') #catch only file name  \n",
    "        dict_doc['doc_id']=file_id\n",
    "        \n",
    "        source=open(file,encoding='utf-8').readlines()\n",
    "        source=clean(source)\n",
    "        \n",
    "        ##########detect title\n",
    "        beginning=re.sub(\"\\n\", \"\", source[0]) #retrieve title\n",
    "        candidate=re.sub(\"\\n\", \"\", source[1]) # retrieve title candidate\n",
    "        h_candidate=word_tokenize(re.sub(\"-\",' ',candidate)) #tokenize the candidate\n",
    "        \n",
    "        title=[]\n",
    "        name=[]\n",
    "        for word in h_candidate:\n",
    "            if wordnet.synsets(word): #check if title candidate exist on wordnet\n",
    "                title.append(word)\n",
    "            else:\n",
    "                name.append(word)\n",
    "            #if title>\n",
    "            if len(title)>len(name): \n",
    "                newtitle=beginning+' '+candidate\n",
    "            elif len(title)==len(name):\n",
    "                newtitle=beginning\n",
    "            else:\n",
    "                newtitle=beginning\n",
    "\n",
    "        dict_doc['title']=newtitle\n",
    "        \n",
    "        content=source[2:]\n",
    "        ######check header, inconsistency all file\n",
    "        r_intro=re.compile(\"^1\\.?\\s[A-Z]+\")\n",
    "        r_ref=re.compile(\"[0-9]{1,2}?\\.?\\s?R[EFERENCES|eferences]\") #detect reference\n",
    "        #r_header=re.compile(\"[0-9]{1,2}?\\.?\\s?[A-Z]\")\n",
    "        \n",
    "        in_abstract=content.index('ABSTRACT')\n",
    "        in_authorkey=content.index('Categories and Subject Descriptors')\n",
    "        \n",
    "        list_intro=[i for i, item in enumerate(content) if re.search(r_intro, item)]\n",
    "        in_intro=list_intro[0]\n",
    "        list_ref=[i for i, item in enumerate(content) if re.search(r_ref, item)]\n",
    "        in_ref=list_ref[0]\n",
    "        \n",
    "        abstract=content[in_abstract+1:in_authorkey] #eliminate keyword and category\n",
    "        body=content[in_intro+1:in_ref] #remove reference       \n",
    "        \n",
    "        list_title=[]\n",
    "        list_title.append(newtitle)\n",
    "        \n",
    "        full_text=list(chain(list_title,abstract, body))\n",
    "        dict_doc['abstract']=abstract\n",
    "        dict_doc['body']=body\n",
    "        dict_doc['full_text']=full_text\n",
    "        \n",
    "        #per sentence in a document\n",
    "        raw.append(dict_doc)\n",
    "    return raw"
   ]
  },
  {
   "cell_type": "code",
   "execution_count": null,
   "metadata": {},
   "outputs": [],
   "source": [
    "#convert data to tfidfvectorizer format\n",
    "#corpus=['a','b','c']\n",
    "def tfidf_corpus(raw_data):\n",
    "    train_data=[]\n",
    "    for doc in raw_data:\n",
    "        #add to list and join all element in full text into a text\n",
    "        train_data.append(' '.join(doc['full_text']))\n",
    "    return train_data\n",
    "\n",
    "train_directory=glob.glob('./se_txt/train/dummy/*.txt.final')\n",
    "source=load_files(train_directory)\n",
    "train_data=tfidf_corpus(source)"
   ]
  },
  {
   "cell_type": "code",
   "execution_count": 2,
   "metadata": {},
   "outputs": [],
   "source": [
    "import pickle\n",
    "def create_pickle(data, name):\n",
    "    with open('%s.pickle' % name,'wb') as handle:\n",
    "        result=pickle.dump(data, handle, protocol=pickle.HIGHEST_PROTOCOL)\n",
    "    return result\n",
    "\n",
    "def open_pickle(name):\n",
    "    with open('%s.pickle' % name,'rb') as handle:\n",
    "        result=pickle.load(handle)\n",
    "    return result"
   ]
  },
  {
   "cell_type": "code",
   "execution_count": 5,
   "metadata": {},
   "outputs": [
    {
     "name": "stdout",
     "output_type": "stream",
     "text": [
      "cleansing data..\n",
      "creating bigram..\n",
      "merging bigram to doc..\n"
     ]
    },
    {
     "name": "stderr",
     "output_type": "stream",
     "text": [
      "C:\\Program Files\\Python35\\lib\\site-packages\\gensim\\models\\phrases.py:494: UserWarning: For a faster implementation, use the gensim.models.phrases.Phraser class\n",
      "  warnings.warn(\"For a faster implementation, use the gensim.models.phrases.Phraser class\")\n"
     ]
    },
    {
     "name": "stdout",
     "output_type": "stream",
     "text": [
      "creating a corpus..\n",
      "[(0, '0.039*\"document\" + 0.021*\"rank\" + 0.020*\"queri\" + 0.013*\"node\" + 0.010*\"web\"'), (1, '0.044*\"agent\" + 0.009*\"node\" + 0.009*\"price\" + 0.007*\"web\" + 0.006*\"servic\"'), (2, '0.074*\"queri\" + 0.018*\"web\" + 0.010*\"document\" + 0.008*\"page\" + 0.008*\"translat\"'), (3, '0.027*\"queri\" + 0.014*\"document\" + 0.014*\"web\" + 0.011*\"server\" + 0.010*\"retriev\"'), (4, '0.049*\"agent\" + 0.012*\"equilibrium\" + 0.011*\"event\" + 0.010*\"game\" + 0.008*\"node\"'), (5, '0.028*\"queri\" + 0.018*\"node\" + 0.011*\"auction\" + 0.009*\"game\" + 0.008*\"alloc\"'), (6, '0.030*\"queri\" + 0.015*\"game\" + 0.009*\"node\" + 0.009*\"player\" + 0.008*\"document\"'), (7, '0.067*\"agent\" + 0.016*\"node\" + 0.013*\"game\" + 0.012*\"offer\" + 0.011*\"negoti\"'), (8, '0.037*\"node\" + 0.025*\"agent\" + 0.014*\"game\" + 0.012*\"sensor\" + 0.009*\"reput\"'), (9, '0.015*\"event\" + 0.013*\"servic\" + 0.013*\"sensor\" + 0.013*\"web\" + 0.011*\"estim\"'), (10, '0.095*\"agent\" + 0.021*\"argument\" + 0.014*\"learn\" + 0.012*\"predict\" + 0.012*\"negoti\"'), (11, '0.020*\"agent\" + 0.015*\"auction\" + 0.014*\"queri\" + 0.014*\"document\" + 0.012*\"retriev\"'), (12, '0.065*\"agent\" + 0.019*\"queri\" + 0.017*\"node\" + 0.011*\"self-interest\" + 0.009*\"self-interest_agent\"'), (13, '0.015*\"event\" + 0.014*\"document\" + 0.013*\"page\" + 0.011*\"agent\" + 0.010*\"web\"'), (14, '0.022*\"queri\" + 0.017*\"node\" + 0.016*\"auction\" + 0.014*\"event\" + 0.011*\"price\"'), (15, '0.044*\"agent\" + 0.018*\"negoti\" + 0.009*\"queri\" + 0.008*\"offer\" + 0.007*\"vote\"'), (16, '0.031*\"node\" + 0.019*\"auction\" + 0.018*\"queri\" + 0.008*\"replica\" + 0.008*\"packet\"'), (17, '0.022*\"document\" + 0.014*\"page\" + 0.013*\"rank\" + 0.013*\"queri\" + 0.013*\"web\"'), (18, '0.027*\"domin\" + 0.021*\"event\" + 0.013*\"agent\" + 0.012*\"elimin\" + 0.012*\"player\"'), (19, '0.032*\"queri\" + 0.024*\"game\" + 0.018*\"document\" + 0.011*\"predict\" + 0.009*\"agent\"'), (20, '0.017*\"job\" + 0.015*\"queri\" + 0.012*\"rate\" + 0.010*\"agent\" + 0.009*\"web\"'), (21, '0.015*\"queri\" + 0.015*\"node\" + 0.013*\"game\" + 0.009*\"agent\" + 0.008*\"job\"'), (22, '0.018*\"topic\" + 0.015*\"event\" + 0.012*\"agent\" + 0.010*\"vector\" + 0.010*\"document\"'), (23, '0.026*\"agent\" + 0.013*\"node\" + 0.012*\"servic\" + 0.009*\"event\" + 0.009*\"queri\"'), (24, '0.021*\"rate\" + 0.013*\"job\" + 0.012*\"predict\" + 0.011*\"document\" + 0.011*\"game\"'), (25, '0.027*\"auction\" + 0.017*\"queri\" + 0.016*\"bidder\" + 0.015*\"price\" + 0.012*\"agent\"'), (26, '0.064*\"agent\" + 0.019*\"reput\" + 0.013*\"recommend\" + 0.012*\"negoti\" + 0.008*\"offer\"'), (27, '0.050*\"bid\" + 0.026*\"auction\" + 0.021*\"agent\" + 0.016*\"rate\" + 0.014*\"revenu\"'), (28, '0.021*\"node\" + 0.016*\"document\" + 0.014*\"queri\" + 0.013*\"index\" + 0.012*\"sensor\"'), (29, '0.031*\"agent\" + 0.018*\"node\" + 0.014*\"argument\" + 0.009*\"game\" + 0.009*\"estim\"'), (30, '0.014*\"game\" + 0.012*\"price\" + 0.009*\"queri\" + 0.008*\"server\" + 0.008*\"sequenc\"'), (31, '0.027*\"price\" + 0.016*\"auction\" + 0.015*\"bid\" + 0.014*\"bidder\" + 0.012*\"queri\"'), (32, '0.030*\"auction\" + 0.026*\"bid\" + 0.019*\"node\" + 0.015*\"agent\" + 0.015*\"bidder\"'), (33, '0.023*\"agent\" + 0.013*\"node\" + 0.013*\"topic\" + 0.011*\"auction\" + 0.010*\"bid\"'), (34, '0.028*\"vote\" + 0.021*\"vector\" + 0.018*\"agent\" + 0.016*\"candid\" + 0.009*\"game\"'), (35, '0.038*\"agent\" + 0.016*\"player\" + 0.016*\"vector\" + 0.015*\"learn\" + 0.014*\"error\"'), (36, '0.023*\"argument\" + 0.022*\"node\" + 0.017*\"agent\" + 0.015*\"queri\" + 0.013*\"locat\"'), (37, '0.036*\"game\" + 0.019*\"player\" + 0.018*\"agent\" + 0.016*\"job\" + 0.015*\"server\"'), (38, '0.027*\"agent\" + 0.020*\"game\" + 0.014*\"player\" + 0.008*\"event\" + 0.008*\"node\"'), (39, '0.020*\"rate\" + 0.016*\"game\" + 0.013*\"player\" + 0.010*\"queri\" + 0.009*\"node\"'), (40, '0.025*\"queri\" + 0.013*\"event\" + 0.010*\"page\" + 0.009*\"node\" + 0.008*\"index\"'), (41, '0.034*\"game\" + 0.023*\"player\" + 0.017*\"agent\" + 0.014*\"node\" + 0.011*\"domin\"'), (42, '0.035*\"agent\" + 0.014*\"node\" + 0.009*\"messag\" + 0.006*\"player\" + 0.006*\"learn\"'), (43, '0.038*\"node\" + 0.014*\"auction\" + 0.012*\"queri\" + 0.011*\"bidder\" + 0.010*\"sensor\"'), (44, '0.047*\"agent\" + 0.019*\"game\" + 0.018*\"auction\" + 0.008*\"bidder\" + 0.008*\"bid\"'), (45, '0.024*\"agent\" + 0.009*\"aggreg\" + 0.009*\"outcom\" + 0.009*\"queri\" + 0.008*\"rank\"'), (46, '0.044*\"agent\" + 0.016*\"bid\" + 0.013*\"auction\" + 0.012*\"energi\" + 0.010*\"page\"'), (47, '0.028*\"agent\" + 0.014*\"document\" + 0.012*\"auction\" + 0.010*\"game\" + 0.008*\"site\"'), (48, '0.014*\"document\" + 0.013*\"sensor\" + 0.009*\"node\" + 0.008*\"energi\" + 0.008*\"player\"'), (49, '0.042*\"agent\" + 0.016*\"event\" + 0.008*\"protocol\" + 0.007*\"bid\" + 0.007*\"game\"'), (50, '0.020*\"bid\" + 0.020*\"auction\" + 0.020*\"price\" + 0.019*\"agent\" + 0.013*\"node\"'), (51, '0.034*\"agent\" + 0.010*\"score\" + 0.010*\"web\" + 0.009*\"argument\" + 0.009*\"forum\"'), (52, '0.018*\"page\" + 0.016*\"agent\" + 0.015*\"node\" + 0.011*\"queri\" + 0.009*\"game\"'), (53, '0.020*\"web\" + 0.013*\"job\" + 0.011*\"grid\" + 0.009*\"site\" + 0.008*\"queri\"'), (54, '0.022*\"agent\" + 0.022*\"auction\" + 0.017*\"queri\" + 0.013*\"alloc\" + 0.012*\"valuat\"'), (55, '0.030*\"node\" + 0.026*\"agent\" + 0.017*\"game\" + 0.013*\"recommend\" + 0.012*\"event\"'), (56, '0.039*\"queri\" + 0.033*\"document\" + 0.012*\"page\" + 0.010*\"agent\" + 0.009*\"remov\"'), (57, '0.015*\"topic\" + 0.015*\"agent\" + 0.012*\"node\" + 0.009*\"action\" + 0.008*\"price\"'), (58, '0.046*\"agent\" + 0.023*\"auction\" + 0.012*\"node\" + 0.012*\"queri\" + 0.011*\"bid\"'), (59, '0.035*\"agent\" + 0.020*\"negoti\" + 0.015*\"node\" + 0.012*\"player\" + 0.011*\"game\"'), (60, '0.031*\"node\" + 0.021*\"recommend\" + 0.012*\"agent\" + 0.009*\"page\" + 0.008*\"price\"'), (61, '0.025*\"queri\" + 0.018*\"agent\" + 0.016*\"web\" + 0.012*\"document\" + 0.009*\"environ\"'), (62, '0.034*\"queri\" + 0.019*\"auction\" + 0.018*\"subject\" + 0.012*\"document\" + 0.012*\"agent\"'), (63, '0.048*\"job\" + 0.024*\"agent\" + 0.008*\"queri\" + 0.007*\"document\" + 0.007*\"rule\"'), (64, '0.027*\"agent\" + 0.014*\"rule\" + 0.013*\"node\" + 0.012*\"vector\" + 0.010*\"vote\"'), (65, '0.035*\"agent\" + 0.016*\"action\" + 0.013*\"node\" + 0.012*\"auction\" + 0.011*\"price\"'), (66, '0.027*\"event\" + 0.021*\"learn\" + 0.020*\"agent\" + 0.018*\"servic\" + 0.013*\"topic\"'), (67, '0.017*\"event\" + 0.013*\"queri\" + 0.011*\"agent\" + 0.011*\"node\" + 0.009*\"rule\"'), (68, '0.015*\"page\" + 0.011*\"web\" + 0.011*\"local\" + 0.011*\"pagerank\" + 0.010*\"servic\"'), (69, '0.019*\"agent\" + 0.019*\"queri\" + 0.013*\"document\" + 0.012*\"polici\" + 0.011*\"auction\"'), (70, '0.032*\"queri\" + 0.016*\"node\" + 0.012*\"agent\" + 0.010*\"document\" + 0.010*\"sensor\"'), (71, '0.036*\"queri\" + 0.032*\"rank\" + 0.016*\"web\" + 0.015*\"document\" + 0.010*\"predict\"'), (72, '0.017*\"queri\" + 0.014*\"sensor\" + 0.014*\"node\" + 0.013*\"game\" + 0.011*\"agent\"'), (73, '0.050*\"game\" + 0.022*\"player\" + 0.022*\"queri\" + 0.013*\"agent\" + 0.008*\"document\"'), (74, '0.031*\"queri\" + 0.018*\"page\" + 0.015*\"event\" + 0.015*\"node\" + 0.012*\"document\"'), (75, '0.032*\"node\" + 0.013*\"agent\" + 0.013*\"queri\" + 0.010*\"event\" + 0.008*\"messag\"'), (76, '0.016*\"agent\" + 0.014*\"node\" + 0.012*\"queri\" + 0.011*\"auction\" + 0.010*\"game\"'), (77, '0.022*\"document\" + 0.017*\"page\" + 0.014*\"rank\" + 0.013*\"node\" + 0.012*\"score\"'), (78, '0.032*\"queri\" + 0.018*\"sensor\" + 0.012*\"index\" + 0.009*\"proxi\" + 0.009*\"auction\"'), (79, '0.012*\"agent\" + 0.012*\"page\" + 0.010*\"game\" + 0.010*\"rank\" + 0.010*\"sensor\"'), (80, '0.018*\"document\" + 0.016*\"queri\" + 0.014*\"topic\" + 0.013*\"node\" + 0.010*\"retriev\"'), (81, '0.045*\"queri\" + 0.026*\"agent\" + 0.013*\"predict\" + 0.012*\"document\" + 0.010*\"retriev\"'), (82, '0.078*\"agent\" + 0.021*\"node\" + 0.013*\"negoti\" + 0.010*\"intent\" + 0.008*\"messag\"'), (83, '0.029*\"queri\" + 0.019*\"server\" + 0.017*\"client\" + 0.017*\"document\" + 0.017*\"game\"'), (84, '0.031*\"page\" + 0.019*\"queri\" + 0.019*\"web\" + 0.013*\"rank\" + 0.011*\"link\"'), (85, '0.019*\"node\" + 0.013*\"bid\" + 0.011*\"agent\" + 0.009*\"path\" + 0.009*\"contract\"'), (86, '0.016*\"execut\" + 0.014*\"auction\" + 0.012*\"price\" + 0.011*\"attribut\" + 0.011*\"node\"'), (87, '0.014*\"local\" + 0.014*\"player\" + 0.014*\"servic\" + 0.011*\"queri\" + 0.011*\"page\"'), (88, '0.047*\"node\" + 0.023*\"event\" + 0.016*\"queri\" + 0.015*\"servic\" + 0.010*\"sensor\"'), (89, '0.021*\"game\" + 0.017*\"agent\" + 0.012*\"player\" + 0.010*\"shapley\" + 0.009*\"coalit\"'), (90, '0.019*\"document\" + 0.016*\"agent\" + 0.015*\"queri\" + 0.010*\"node\" + 0.009*\"retriev\"'), (91, '0.031*\"distanc\" + 0.015*\"descriptor\" + 0.013*\"queri\" + 0.010*\"distanc_measur\" + 0.007*\"quantit\"'), (92, '0.036*\"game\" + 0.028*\"agent\" + 0.024*\"player\" + 0.007*\"server\" + 0.007*\"client\"'), (93, '0.025*\"agent\" + 0.017*\"node\" + 0.013*\"rank\" + 0.011*\"document\" + 0.009*\"price\"'), (94, '0.019*\"document\" + 0.018*\"node\" + 0.018*\"vector\" + 0.015*\"rank\" + 0.011*\"local\"'), (95, '0.031*\"document\" + 0.016*\"local\" + 0.016*\"node\" + 0.014*\"site\" + 0.012*\"inconsist\"'), (96, '0.013*\"event\" + 0.013*\"vector\" + 0.011*\"node\" + 0.011*\"page\" + 0.011*\"error\"'), (97, '0.019*\"queri\" + 0.018*\"auction\" + 0.013*\"document\" + 0.013*\"agent\" + 0.011*\"bid\"'), (98, '0.039*\"job\" + 0.020*\"grid\" + 0.017*\"agent\" + 0.011*\"cluster\" + 0.008*\"titl\"'), (99, '0.025*\"queri\" + 0.019*\"retriev\" + 0.016*\"document\" + 0.013*\"rank\" + 0.012*\"agent\"')]\n"
     ]
    }
   ],
   "source": [
    "from gensim.corpora import Dictionary\n",
    "from gensim.utils import tokenize\n",
    "from gensim.models.ldamodel import LdaModel\n",
    "from gensim.models.coherencemodel import CoherenceModel\n",
    "from gensim.models import Phrases\n",
    "from sklearn.feature_extraction import text\n",
    "from nltk.stem.porter import *\n",
    "from itertools import chain\n",
    "import re\n",
    "\n",
    "import matplotlib.pyplot as plt\n",
    "%matplotlib inline\n",
    "\n",
    "train_data=open_pickle('xml train data')\n",
    "stop_words=text.ENGLISH_STOP_WORDS\n",
    "stemmer=PorterStemmer()\n",
    "\n",
    "def clean_(doc):\n",
    "    remove_stop=\" \".join([i for i in word_tokenize(doc.lower()) if re.search(r\"\\b[A-Za-z-]+\\b\", i) and i not in stop_words and len(i)>2])\n",
    "    normalized=[stemmer.stem(word) for word in remove_stop.split()]\n",
    "    return normalized\n",
    "\n",
    "print(\"cleansing data..\")\n",
    "docs=[clean_(doc) for doc in train_data]\n",
    "print(\"creating bigram..\")\n",
    "bigram=Phrases(docs, min_count=2)\n",
    "print(\"merging bigram to doc..\")\n",
    "for idx in range(len(docs)):\n",
    "    for token in bigram[docs[idx]]:\n",
    "        if '_' in token:\n",
    "            docs[idx].append(token)\n",
    "\n",
    "dictionary=Dictionary(docs)\n",
    "# occurence per documents - hyperparameter\n",
    "dictionary.filter_extremes(no_below=3, no_above=0.5)\n",
    "print(\"creating a corpus..\")\n",
    "corpus=[dictionary.doc2bow(text) for text in docs]\n",
    "lm=LdaModel(corpus, num_topics=100, id2word=dictionary)\n",
    "print(lm.print_topics(num_topics=100, num_words=5))"
   ]
  },
  {
   "cell_type": "code",
   "execution_count": null,
   "metadata": {},
   "outputs": [],
   "source": []
  },
  {
   "cell_type": "code",
   "execution_count": null,
   "metadata": {},
   "outputs": [],
   "source": []
  },
  {
   "cell_type": "code",
   "execution_count": null,
   "metadata": {},
   "outputs": [],
   "source": []
  },
  {
   "cell_type": "code",
   "execution_count": null,
   "metadata": {},
   "outputs": [],
   "source": []
  },
  {
   "cell_type": "code",
   "execution_count": null,
   "metadata": {},
   "outputs": [],
   "source": []
  },
  {
   "cell_type": "code",
   "execution_count": 4,
   "metadata": {
    "scrolled": true
   },
   "outputs": [
    {
     "name": "stdout",
     "output_type": "stream",
     "text": [
      "cleansing data..\n",
      "creating bigram..\n",
      "merging bigram to doc..\n"
     ]
    },
    {
     "name": "stderr",
     "output_type": "stream",
     "text": [
      "C:\\Program Files\\Python35\\lib\\site-packages\\gensim\\models\\phrases.py:494: UserWarning: For a faster implementation, use the gensim.models.phrases.Phraser class\n",
      "  warnings.warn(\"For a faster implementation, use the gensim.models.phrases.Phraser class\")\n"
     ]
    },
    {
     "name": "stdout",
     "output_type": "stream",
     "text": [
      "creating a corpus..\n",
      "starting to build a graph..\n",
      "creating a model..\n"
     ]
    },
    {
     "name": "stderr",
     "output_type": "stream",
     "text": [
      "C:\\Program Files\\Python35\\lib\\site-packages\\gensim\\models\\ldamodel.py:775: RuntimeWarning: divide by zero encountered in log\n",
      "  diff = np.log(self.expElogbeta)\n"
     ]
    },
    {
     "name": "stdout",
     "output_type": "stream",
     "text": [
      "creating a graph..\n"
     ]
    },
    {
     "data": {
      "image/png": "[encoded data removed]",
      "text/plain": [
       "<Figure size 432x288 with 1 Axes>"
      ]
     },
     "metadata": {},
     "output_type": "display_data"
    },
    {
     "name": "stdout",
     "output_type": "stream",
     "text": [
      "[<gensim.models.ldamodel.LdaModel object at 0x0000025FB3B170B8>, <gensim.models.ldamodel.LdaModel object at 0x0000025FB4133710>, <gensim.models.ldamodel.LdaModel object at 0x0000025FB3B4BE48>, <gensim.models.ldamodel.LdaModel object at 0x0000025FBBC90828>, <gensim.models.ldamodel.LdaModel object at 0x0000025FB3B4B9B0>, <gensim.models.ldamodel.LdaModel object at 0x0000025FB3F7EF60>, <gensim.models.ldamodel.LdaModel object at 0x0000025FB63225C0>, <gensim.models.ldamodel.LdaModel object at 0x0000025FB60F8390>, <gensim.models.ldamodel.LdaModel object at 0x0000025FB3BFDE80>, <gensim.models.ldamodel.LdaModel object at 0x0000025FB34ABB70>, <gensim.models.ldamodel.LdaModel object at 0x0000025FB3690F98>, <gensim.models.ldamodel.LdaModel object at 0x0000025FB415CCF8>, <gensim.models.ldamodel.LdaModel object at 0x0000025FB4119F98>, <gensim.models.ldamodel.LdaModel object at 0x0000025FB3D77F60>, <gensim.models.ldamodel.LdaModel object at 0x0000025FB4C58240>, <gensim.models.ldamodel.LdaModel object at 0x0000025FB3D77DA0>, <gensim.models.ldamodel.LdaModel object at 0x0000025FB4D050B8>, <gensim.models.ldamodel.LdaModel object at 0x0000025FB4119E10>, <gensim.models.ldamodel.LdaModel object at 0x0000025FB3BFDF98>, <gensim.models.ldamodel.LdaModel object at 0x0000025FB3BFDD68>, <gensim.models.ldamodel.LdaModel object at 0x0000025FB0047710>, <gensim.models.ldamodel.LdaModel object at 0x0000025FB3B4BDA0>, <gensim.models.ldamodel.LdaModel object at 0x0000025FB3C64518>, <gensim.models.ldamodel.LdaModel object at 0x0000025FB3BFDF60>, <gensim.models.ldamodel.LdaModel object at 0x0000025FB3C82F98>, <gensim.models.ldamodel.LdaModel object at 0x0000025FB3D77F98>, <gensim.models.ldamodel.LdaModel object at 0x0000025FB3AE3B00>, <gensim.models.ldamodel.LdaModel object at 0x0000025FB3A1A550>, <gensim.models.ldamodel.LdaModel object at 0x0000025FB4D04390>, <gensim.models.ldamodel.LdaModel object at 0x0000025FB3A1A470>, <gensim.models.ldamodel.LdaModel object at 0x0000025FB3C82F28>, <gensim.models.ldamodel.LdaModel object at 0x0000025FAF606EB8>, <gensim.models.ldamodel.LdaModel object at 0x0000025FB3B4B7F0>, <gensim.models.ldamodel.LdaModel object at 0x0000025FB3C64588>, <gensim.models.ldamodel.LdaModel object at 0x0000025FB3AE3C50>, <gensim.models.ldamodel.LdaModel object at 0x0000025FAF7D85C0>, <gensim.models.ldamodel.LdaModel object at 0x0000025FB3690E80>, <gensim.models.ldamodel.LdaModel object at 0x0000025FB4C4AE48>, <gensim.models.ldamodel.LdaModel object at 0x0000025FB3C64668>, <gensim.models.ldamodel.LdaModel object at 0x0000025FB3C64358>, <gensim.models.ldamodel.LdaModel object at 0x0000025FB3C61198>, <gensim.models.ldamodel.LdaModel object at 0x0000025FB393AF98>, <gensim.models.ldamodel.LdaModel object at 0x0000025FB393A518>, <gensim.models.ldamodel.LdaModel object at 0x0000025FB393A358>, <gensim.models.ldamodel.LdaModel object at 0x0000025FAF802208>, <gensim.models.ldamodel.LdaModel object at 0x0000025FB3C64208>, <gensim.models.ldamodel.LdaModel object at 0x0000025FB4C54080>, <gensim.models.ldamodel.LdaModel object at 0x0000025FB3C642B0>, <gensim.models.ldamodel.LdaModel object at 0x0000025FB3BA8278>, <gensim.models.ldamodel.LdaModel object at 0x0000025FB3690EF0>, <gensim.models.ldamodel.LdaModel object at 0x0000025FB34ABFD0>, <gensim.models.ldamodel.LdaModel object at 0x0000025FB393A048>, <gensim.models.ldamodel.LdaModel object at 0x0000025FB393AA20>, <gensim.models.ldamodel.LdaModel object at 0x0000025FB3BA8630>, <gensim.models.ldamodel.LdaModel object at 0x0000025FB393A7B8>, <gensim.models.ldamodel.LdaModel object at 0x0000025FB3A1A320>, <gensim.models.ldamodel.LdaModel object at 0x0000025FB3BA8518>, <gensim.models.ldamodel.LdaModel object at 0x0000025FB86C4D30>, <gensim.models.ldamodel.LdaModel object at 0x0000025FB4CE72E8>, <gensim.models.ldamodel.LdaModel object at 0x0000025FB3BA84E0>, <gensim.models.ldamodel.LdaModel object at 0x0000025FB86C4F60>, <gensim.models.ldamodel.LdaModel object at 0x0000025FB33D8588>, <gensim.models.ldamodel.LdaModel object at 0x0000025FB4CE7A58>, <gensim.models.ldamodel.LdaModel object at 0x0000025FB4CE7C18>, <gensim.models.ldamodel.LdaModel object at 0x0000025FB3BA8B70>, <gensim.models.ldamodel.LdaModel object at 0x0000025FB4C6EC50>, <gensim.models.ldamodel.LdaModel object at 0x0000025FB86C4E48>, <gensim.models.ldamodel.LdaModel object at 0x0000025FB3C642E8>, <gensim.models.ldamodel.LdaModel object at 0x0000025FB3AE3518>, <gensim.models.ldamodel.LdaModel object at 0x0000025FB3AE3780>, <gensim.models.ldamodel.LdaModel object at 0x0000025FB86C4DA0>, <gensim.models.ldamodel.LdaModel object at 0x0000025FB3C4D5F8>, <gensim.models.ldamodel.LdaModel object at 0x0000025FB86C4CF8>, <gensim.models.ldamodel.LdaModel object at 0x0000025FB3D83CF8>, <gensim.models.ldamodel.LdaModel object at 0x0000025FB86C4EF0>, <gensim.models.ldamodel.LdaModel object at 0x0000025FB1FCDDD8>, <gensim.models.ldamodel.LdaModel object at 0x0000025FB3AE30B8>, <gensim.models.ldamodel.LdaModel object at 0x0000025FB1FCDF98>, <gensim.models.ldamodel.LdaModel object at 0x0000025FB1FCDC50>, <gensim.models.ldamodel.LdaModel object at 0x0000025FB86C4FD0>, <gensim.models.ldamodel.LdaModel object at 0x0000025FB86C4E10>, <gensim.models.ldamodel.LdaModel object at 0x0000025FB86C4F98>, <gensim.models.ldamodel.LdaModel object at 0x0000025FB4CE7D68>, <gensim.models.ldamodel.LdaModel object at 0x0000025FB4CE72B0>, <gensim.models.ldamodel.LdaModel object at 0x0000025FB4CE7A90>, <gensim.models.ldamodel.LdaModel object at 0x0000025FB4CE7160>, <gensim.models.ldamodel.LdaModel object at 0x0000025FB33D8748>, <gensim.models.ldamodel.LdaModel object at 0x0000025FB1FCDE48>, <gensim.models.ldamodel.LdaModel object at 0x0000025FB1FCDBE0>, <gensim.models.ldamodel.LdaModel object at 0x0000025FB4C25048>, <gensim.models.ldamodel.LdaModel object at 0x0000025FB1FCDFD0>, <gensim.models.ldamodel.LdaModel object at 0x0000025FB1FCDC18>, <gensim.models.ldamodel.LdaModel object at 0x0000025FB1FCDCC0>, <gensim.models.ldamodel.LdaModel object at 0x0000025FB1FCDEF0>, <gensim.models.ldamodel.LdaModel object at 0x0000025FB3FC6828>, <gensim.models.ldamodel.LdaModel object at 0x0000025FB3FC6BA8>, <gensim.models.ldamodel.LdaModel object at 0x0000025FB3C610F0>, <gensim.models.ldamodel.LdaModel object at 0x0000025FB3C61400>, <gensim.models.ldamodel.LdaModel object at 0x0000025FB1FCDDA0>]\n"
     ]
    }
   ],
   "source": [
    "#this is for generating how many topics\n",
    "from gensim.corpora import Dictionary\n",
    "from gensim.utils import tokenize\n",
    "from gensim.models.ldamodel import LdaModel\n",
    "from gensim.models.coherencemodel import CoherenceModel\n",
    "from gensim.models import Phrases\n",
    "from sklearn.feature_extraction import text\n",
    "from nltk.stem.porter import *\n",
    "from itertools import chain\n",
    "import re\n",
    "\n",
    "import matplotlib.pyplot as plt\n",
    "%matplotlib inline\n",
    "\n",
    "train_data=open_pickle('xml train data')\n",
    "stop_words=text.ENGLISH_STOP_WORDS\n",
    "stemmer=PorterStemmer()\n",
    "\n",
    "def clean_(doc):\n",
    "    remove_stop=\" \".join([i for i in word_tokenize(doc.lower()) if re.search(r\"\\b[A-Za-z-]+\\b\", i) and i not in stop_words and len(i)>2])\n",
    "    normalized=[stemmer.stem(word) for word in remove_stop.split()]\n",
    "    return normalized\n",
    "\n",
    "print(\"cleansing data..\")\n",
    "docs=[clean_(doc) for doc in train_data]\n",
    "#print bigram\n",
    "#from https://markroxor.github.io/gensim/static/notebooks/lda_training_tips.html\n",
    "print(\"creating bigram..\")\n",
    "bigram=Phrases(docs, min_count=2)\n",
    "#trigram=Phrases(bigram[docs], min_count=2)\n",
    "#fourgram=Phrases(trigram[docs], min_count=2)\n",
    "#fivegram=Phrases(fourgram[docs], min_count=2)\n",
    "print(\"merging bigram to doc..\")\n",
    "for idx in range(len(docs)):\n",
    "    for token in bigram[docs[idx]]:\n",
    "        if '_' in token:\n",
    "            docs[idx].append(token)\n",
    "\n",
    "dictionary=Dictionary(docs)\n",
    "# occurence per documents - hyperparameter\n",
    "dictionary.filter_extremes(no_below=3, no_above=0.5)\n",
    "print(\"creating a corpus..\")\n",
    "corpus=[dictionary.doc2bow(text) for text in docs]\n",
    "#(index, occurrence in a document)\n",
    "\n",
    "def evaluate_graph(dictionary, corpus, texts, limit):\n",
    "    lm_list=[]\n",
    "    c_v=[]\n",
    "    print(\"creating a model..\")\n",
    "    for n_topic in range(1, limit):\n",
    "        lm=LdaModel(corpus, num_topics=n_topic, id2word=dictionary)\n",
    "        lm_list.append(lm)\n",
    "        cm=CoherenceModel(model=lm, texts=texts, dictionary=dictionary, coherence='c_v')\n",
    "        c_v.append(cm.get_coherence())\n",
    "    \n",
    "    print(\"creating a graph..\")\n",
    "    x=range(1, limit)\n",
    "    plt.plot(x, c_v)\n",
    "    plt.xlabel(\"number of topics\")\n",
    "    plt.ylabel(\"coherence score\")\n",
    "    plt.legend((\"c_v\"), loc='best')\n",
    "    plt.show()\n",
    "    return lm_list\n",
    "#print(ldamodel.print_topics(num_topics=100, num_words=5))\n",
    "print(\"starting to build a graph..\")\n",
    "lm_list=evaluate_graph(dictionary, corpus, docs, 100)\n",
    "print(lm_list)"
   ]
  }
 ],
 "metadata": {
  "kernelspec": {
   "display_name": "Python 3",
   "language": "python",
   "name": "python3"
  },
  "language_info": {
   "codemirror_mode": {
    "name": "ipython",
    "version": 3
   },
   "file_extension": ".py",
   "mimetype": "text/x-python",
   "name": "python",
   "nbconvert_exporter": "python",
   "pygments_lexer": "ipython3",
   "version": "3.5.3"
  }
 },
 "nbformat": 4,
 "nbformat_minor": 2
}
