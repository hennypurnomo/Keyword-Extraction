{
 "cells": [
  {
   "cell_type": "code",
   "execution_count": 1,
   "metadata": {
    "scrolled": false
   },
   "outputs": [
    {
     "name": "stderr",
     "output_type": "stream",
     "text": [
      "2018-08-26 16:57:37,461: DEBUG: CACHEDIR=C:\\Users\\user\\.matplotlib\n",
      "2018-08-26 16:57:37,574: DEBUG: Using fontManager instance from C:\\Users\\user\\.matplotlib\\fontList.json\n",
      "2018-08-26 16:57:41,257: DEBUG: backend module://ipykernel.pylab.backend_inline version unknown\n",
      "2018-08-26 16:57:42,594: DEBUG: backend module://ipykernel.pylab.backend_inline version unknown\n"
     ]
    }
   ],
   "source": [
    "import glob, os\n",
    "from datetime import datetime\n",
    "import utils, preprocessing, generate_candidate\n",
    "import feature_extraction, generate_keyphrase\n",
    "\n",
    "#there are 3 number of selection, which are 5, 10, 15\n",
    "number_keyphrase = 15"
   ]
  },
  {
   "cell_type": "code",
   "execution_count": 2,
   "metadata": {},
   "outputs": [
    {
     "name": "stdout",
     "output_type": "stream",
     "text": [
      "Opening all pickles\n"
     ]
    }
   ],
   "source": [
    "#opening all relevant pickles\n",
    "\n",
    "print(\"Opening all pickles\")\n",
    "train_raw = utils.open_pickle('./pickle/semeval/xml train raw')\n",
    "train_data = utils.open_pickle('./pickle/semeval/xml train data')\n",
    "\n",
    "train_label = utils.open_pickle('./pickle/semeval/train label')\n",
    "train_tf_corpus = utils.open_pickle('./pickle/semeval/xml train tf corpus')\n",
    "train_tf_nounphrase_corpus = utils.open_pickle('./pickle/semeval/xml train tf nounphrase corpus')\n",
    "\n",
    "test_raw = utils.open_pickle('./pickle/semeval/xml test raw')\n",
    "test_data = utils.open_pickle('./pickle/semeval/xml test data')\n",
    "\n",
    "test_label = utils.open_pickle('./pickle/semeval/test label')\n",
    "test_tf_corpus = utils.open_pickle('./pickle/semeval/xml test tf corpus')\n",
    "test_tf_nounphrase_corpus = utils.open_pickle('./pickle/semeval/xml test tf nounphrase corpus')\n",
    "\n",
    "train_topics = utils.open_pickle('./pickle/semeval/xml train topics')\n",
    "test_topics = utils.open_pickle('./pickle/semeval/xml test topics')\n",
    "\n",
    "ngram_candidates = utils.open_pickle('./pickle/semeval/xml ngram candidates')\n",
    "test_ngram_candidates = utils.open_pickle('./pickle/semeval/xml test ngram candidates')\n",
    "\n",
    "nounphrase_candidates = utils.open_pickle('./pickle/semeval/xml nounphrase candidates')\n",
    "test_nounphrase_candidates = utils.open_pickle('./pickle/semeval/xml test nounphrase candidates')\n",
    "\n",
    "supervised_key = utils.open_pickle('./pickle/semeval/xml ngram supervised keyphraseness')\n",
    "np_supervised_key = utils.open_pickle('./pickle/semeval/xml np supervised keyphraseness')"
   ]
  },
  {
   "cell_type": "code",
   "execution_count": 5,
   "metadata": {
    "scrolled": true
   },
   "outputs": [
    {
     "name": "stdout",
     "output_type": "stream",
     "text": [
      "Fmeasure on full features:\n",
      "Minus spr [('LR', (20.47, 20.3, 20.38)), ('NB', (13.53, 13.43, 13.48)), ('RF', (11.73, 11.64, 11.68)), ('AdaBoost', (11.07, 10.98, 11.02)), ('Bagging', (10.53, 10.45, 10.49))]\n",
      "Fmeasure on full features:\n",
      "Minus tr [('LR', (20.6, 20.44, 20.52)), ('NB', (13.8, 13.69, 13.74)), ('RF', (11.0, 10.91, 10.95)), ('AdaBoost', (11.33, 11.24, 11.28)), ('Bagging', (10.8, 10.71, 10.75))]\n",
      "Fmeasure on full features:\n",
      "Minus sk [('LR', (20.2, 20.04, 20.12)), ('NB', (16.27, 16.14, 16.2)), ('RF', (21.4, 21.23, 21.31)), ('AdaBoost', (22.33, 22.16, 22.24)), ('Bagging', (11.73, 11.64, 11.68))]\n",
      "Fmeasure on full features:\n",
      "Minus sts [('LR', (20.07, 19.91, 19.99)), ('NB', (16.2, 16.07, 16.13)), ('RF', (19.07, 18.92, 18.99)), ('AdaBoost', (22.87, 22.69, 22.78)), ('Bagging', (12.93, 12.83, 12.88))]\n",
      "Fmeasure on full features:\n",
      "Minus dis [('LR', (19.8, 19.64, 19.72)), ('NB', (13.53, 13.43, 13.48)), ('RF', (11.0, 10.91, 10.95)), ('AdaBoost', (10.93, 10.85, 10.89)), ('Bagging', (10.47, 10.38, 10.42))]\n",
      "Fmeasure on full features:\n",
      "Minus len [('LR', (18.4, 18.25, 18.32)), ('NB', (13.53, 13.43, 13.48)), ('RF', (11.13, 11.04, 11.08)), ('AdaBoost', (11.13, 11.04, 11.08)), ('Bagging', (10.53, 10.45, 10.49))]\n"
     ]
    }
   ],
   "source": [
    "##test feature selection\n",
    "'''\n",
    "nounphrase_prediction = generate_keyphrase.predict_data(test_nounphrase_candidates, \n",
    "                test_label, train_data='./csv/semeval/xml_train_nounphrase', \n",
    "                test_data='./csv/semeval/xml_test_nounphrase', \n",
    "                n_keyphrase = number_keyphrase)\n",
    "print('full', nounphrase_prediction)\n",
    "'''\n",
    "sprnounphrase_prediction = generate_keyphrase.predict_data(test_nounphrase_candidates, \n",
    "                test_label, train_data='./csv/semeval/sprxml_train_nounphrase', \n",
    "                test_data='./csv/semeval/sprxml_test_nounphrase', \n",
    "                n_keyphrase = number_keyphrase)\n",
    "print('Minus spr', sprnounphrase_prediction)\n",
    "\n",
    "trnounphrase_prediction = generate_keyphrase.predict_data(test_nounphrase_candidates, \n",
    "                test_label, train_data='./csv/semeval/trxml_train_nounphrase', \n",
    "                test_data='./csv/semeval/trxml_test_nounphrase', \n",
    "                n_keyphrase = number_keyphrase)\n",
    "print('Minus tr', trnounphrase_prediction)\n",
    "\n",
    "sknounphrase_prediction = generate_keyphrase.predict_data(test_nounphrase_candidates, \n",
    "                test_label, train_data='./csv/semeval/skxml_train_nounphrase', \n",
    "                test_data='./csv/semeval/skxml_test_nounphrase', \n",
    "                n_keyphrase = number_keyphrase)\n",
    "print('Minus sk', sknounphrase_prediction)\n",
    "\n",
    "stsnounphrase_prediction = generate_keyphrase.predict_data(test_nounphrase_candidates, \n",
    "                test_label, train_data='./csv/semeval/stsxml_train_nounphrase', \n",
    "                test_data='./csv/semeval/stsxml_test_nounphrase', \n",
    "                n_keyphrase = number_keyphrase)\n",
    "print('Minus sts', stsnounphrase_prediction)\n",
    "\n",
    "disnounphrase_prediction = generate_keyphrase.predict_data(test_nounphrase_candidates, \n",
    "                test_label, train_data='./csv/semeval/disxml_train_nounphrase', \n",
    "                test_data='./csv/semeval/disxml_test_nounphrase', \n",
    "                n_keyphrase = number_keyphrase)\n",
    "print('Minus dis', disnounphrase_prediction)\n",
    "\n",
    "lennounphrase_prediction = generate_keyphrase.predict_data(test_nounphrase_candidates, \n",
    "                test_label, train_data='./csv/semeval/lenxml_train_nounphrase', \n",
    "                test_data='./csv/semeval/lenxml_test_nounphrase', \n",
    "                n_keyphrase = number_keyphrase)\n",
    "print('Minus len', lennounphrase_prediction)\n"
   ]
  },
  {
   "cell_type": "code",
   "execution_count": null,
   "metadata": {},
   "outputs": [],
   "source": [
    "fs = generate_keyphrase.feature_selection(train_data='./csv/semeval/xml_train_nounphrase')\n",
    "fs"
   ]
  },
  {
   "cell_type": "code",
   "execution_count": null,
   "metadata": {},
   "outputs": [],
   "source": []
  },
  {
   "cell_type": "code",
   "execution_count": null,
   "metadata": {},
   "outputs": [],
   "source": []
  },
  {
   "cell_type": "code",
   "execution_count": null,
   "metadata": {},
   "outputs": [],
   "source": []
  }
 ],
 "metadata": {
  "kernelspec": {
   "display_name": "Python 3",
   "language": "python",
   "name": "python3"
  },
  "language_info": {
   "codemirror_mode": {
    "name": "ipython",
    "version": 3
   },
   "file_extension": ".py",
   "mimetype": "text/x-python",
   "name": "python",
   "nbconvert_exporter": "python",
   "pygments_lexer": "ipython3",
   "version": "3.5.3"
  }
 },
 "nbformat": 4,
 "nbformat_minor": 2
}
