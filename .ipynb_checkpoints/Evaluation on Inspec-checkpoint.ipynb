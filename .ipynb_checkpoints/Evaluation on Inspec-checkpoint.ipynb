{
 "cells": [
  {
   "cell_type": "code",
   "execution_count": 1,
   "metadata": {
    "scrolled": true
   },
   "outputs": [
    {
     "name": "stderr",
     "output_type": "stream",
     "text": [
      "2018-08-27 16:59:18,038: DEBUG: CACHEDIR=C:\\Users\\user\\.matplotlib\n",
      "2018-08-27 16:59:18,105: DEBUG: Using fontManager instance from C:\\Users\\user\\.matplotlib\\fontList.json\n",
      "2018-08-27 16:59:22,577: DEBUG: backend module://ipykernel.pylab.backend_inline version unknown\n",
      "2018-08-27 16:59:24,310: DEBUG: backend module://ipykernel.pylab.backend_inline version unknown\n"
     ]
    }
   ],
   "source": [
    "#This file contains noun phrase and n-gram filters on Inspec dataset\n",
    "\n",
    "import glob, os\n",
    "from datetime import datetime\n",
    "from natsort import natsorted\n",
    "import utils, preprocessing, generate_candidate\n",
    "import feature_extraction, generate_keyphrase"
   ]
  },
  {
   "cell_type": "code",
   "execution_count": null,
   "metadata": {
    "scrolled": true
   },
   "outputs": [],
   "source": [
    "#only run one time, if pickles have been generated, please skip into next step\n",
    "\n",
    "#load and create training data\n",
    "train_directory = natsorted(glob.glob('./data/inspec/train/*.xml'))\n",
    "train_raw = preprocessing.load_xml_non_title(train_directory)\n",
    "pickle_train_raw = utils.create_pickle(train_raw,'./pickle/inspec/train raw')\n",
    "train_data = preprocessing.create_xml_corpus(train_raw)\n",
    "pickle_train_data = utils.create_pickle(train_data,'./pickle/inspec/train data')\n",
    "train_tf_corpus = feature_extraction.calculate_tf(train_data, vocab = None, type = 'ngram')\n",
    "pickle_train_tf_corpus = utils.create_pickle(train_tf_corpus,'./pickle/inspec/train tf corpus')\n",
    "\n",
    "#load and create testing data\n",
    "test_directory = natsorted(glob.glob('./data/inspec/test/*.xml'))\n",
    "test_raw = preprocessing.load_xml_non_title(test_directory)\n",
    "pickle_test_raw = utils.create_pickle(test_raw,'./pickle/inspec/test raw')\n",
    "test_data = preprocessing.create_xml_corpus(test_raw)\n",
    "pickle_test_data = utils.create_pickle(test_data,'./pickle/inspec/test data')\n",
    "test_tf_corpus = feature_extraction.calculate_tf(test_data, vocab = None, type = 'ngram')\n",
    "pickle_test_tf_corpus = utils.create_pickle(test_tf_corpus,'./pickle/inspec/test tf corpus')\n",
    "\n",
    "#create training label\n",
    "uncontr_train_label_directory = open('./data/Inspec/references/train.uncontr.stem.json')\n",
    "uncontr_train_label = preprocessing.extract_json_label(uncontr_train_label_directory, \n",
    "                                                     raw_data = train_raw, file_type='default')\n",
    "uncontr_train_label_pickle = utils.create_pickle(uncontr_train_label, \n",
    "                                                 './pickle/Inspec/uncontr train label')\n",
    "\n",
    "#create testing label\n",
    "uncontr_test_label_directory = open('./data/Inspec/references/test.uncontr.stem.json')\n",
    "uncontr_test_label = preprocessing.extract_json_label(uncontr_test_label_directory, \n",
    "                                                    raw_data = test_raw, file_type='default')\n",
    "uncontr_test_label_pickle = utils.create_pickle(uncontr_test_label, \n",
    "                                                './pickle/Inspec/uncontr test label')\n",
    "\n",
    "\n",
    "#create candidates based on n-gram and store into pickle of training data\n",
    "print(\"Generating n-gram candidates..\")\n",
    "ngram_candidates = generate_candidate.calculate_tfidf(train_data, vocab=None, type='ngram') \n",
    "pickle_ngram_candidates = utils.create_pickle(ngram_candidates, './pickle/inspec/ngram candidates')\n",
    "\n",
    "#create candidates based on n-gram and store into pickle of testing data\n",
    "test_ngram_candidates = generate_candidate.calculate_tfidf(test_data, vocab=None, type='ngram') \n",
    "pickle_test_ngram_candidates = utils.create_pickle(test_ngram_candidates, \n",
    "                                                   './pickle/inspec/test ngram candidates')\n",
    "\n",
    "\n",
    "#create candidates based on noun phrase and store into pickle of training data\n",
    "print(\"Generating noun phrase candidates..\")\n",
    "nounphrase_vocabulary = generate_candidate.create_phrase_vocabulary(train_data)\n",
    "train_tf_nounphrase_corpus = feature_extraction.calculate_tf(train_data, \n",
    "                            vocab = nounphrase_vocabulary, type = 'np')\n",
    "pickle_train_tf_nounphrase_corpus = utils.create_pickle(train_tf_nounphrase_corpus,\n",
    "                            './pickle/inspec/train tf nounphrase corpus')\n",
    "nounphrase_candidates = generate_candidate.calculate_tfidf(train_data, \n",
    "                            nounphrase_vocabulary, type='np')\n",
    "pickle_nounphrase_candidates = utils.create_pickle(nounphrase_candidates, \n",
    "                            './pickle/inspec/nounphrase candidates')\n",
    "\n",
    "#create candidates based on noun phrase and store into pickle of testing data\n",
    "test_nounphrase_vocabulary = generate_candidate.create_phrase_vocabulary(test_data)\n",
    "test_tf_nounphrase_corpus = feature_extraction.calculate_tf(test_data, \n",
    "                            vocab = test_nounphrase_vocabulary, type = 'np')\n",
    "pickle_test_tf_nounphrase_corpus = utils.create_pickle(test_tf_nounphrase_corpus,\n",
    "                            './pickle/inspec/test tf nounphrase corpus')\n",
    "test_nounphrase_candidates = generate_candidate.calculate_tfidf(test_data, \n",
    "                            test_nounphrase_vocabulary, type='np')\n",
    "pickle_test_nounphrase_candidates = utils.create_pickle(test_nounphrase_candidates, \n",
    "                            './pickle/inspec/test nounphrase candidates')\n",
    "\n",
    "#create a dictionary supervised keyphraseness on ngram filter\n",
    "supervised_key = feature_extraction.create_supervised_list(uncontr_train_label, train_tf_corpus)\n",
    "supervised_corpus = utils.create_pickle(supervised_key, './pickle/inspec/supervised keyphraseness')\n",
    "\n",
    "#create a dictionary supervised keyphraseness on noun phrase filter\n",
    "np_supervised_key = feature_extraction.create_supervised_list(uncontr_train_label, train_tf_nounphrase_corpus)\n",
    "np_supervised_corpus = utils.create_pickle(np_supervised_key, './pickle/inspec/np supervised keyphraseness')\n"
   ]
  },
  {
   "cell_type": "code",
   "execution_count": 2,
   "metadata": {
    "scrolled": true
   },
   "outputs": [
    {
     "name": "stdout",
     "output_type": "stream",
     "text": [
      "Opening all pickles\n",
      "Evaluation on n-gram filter..\n",
      "Fmeasure on full features:\n",
      "Precision, recall, f-measure on 10 keywords - ngram : [('LR', (17.46, 17.77, 17.61))]\n",
      "Evaluation on noun phrase filter..\n",
      "Fmeasure on full features:\n",
      "Precision, recall, f-measure on top 10 keyphrase - nounphrase: [('LR', (24.36, 24.79, 24.57))]\n"
     ]
    }
   ],
   "source": [
    "#evaluate the pipeline\n",
    "\n",
    "#evaluation on Inspec with uncontrolled label (10 keywords)\n",
    "number_keyphrase = 10\n",
    "\n",
    "#open all relevant pickles\n",
    "print(\"Opening all pickles\")\n",
    "train_raw = utils.open_pickle('./pickle/inspec/train raw')\n",
    "train_data = utils.open_pickle('./pickle/inspec/train data')\n",
    "\n",
    "uncontr_train_label = utils.open_pickle('./pickle/inspec/train uncontr label')\n",
    "train_tf_corpus = utils.open_pickle('./pickle/inspec/train tf corpus')\n",
    "\n",
    "test_raw = utils.open_pickle('./pickle/inspec/test raw')\n",
    "test_data = utils.open_pickle('./pickle/inspec/test data')\n",
    "\n",
    "uncontr_test_label = utils.open_pickle('./pickle/inspec/test uncontr label')\n",
    "test_tf_corpus = utils.open_pickle('./pickle/inspec/test tf corpus')\n",
    "\n",
    "train_topics = utils.open_pickle('./pickle/inspec/train topics')\n",
    "test_topics = utils.open_pickle('./pickle/inspec/test topics')\n",
    "\n",
    "ngram_candidates = utils.open_pickle('./pickle/inspec/ngram candidates')\n",
    "test_ngram_candidates = utils.open_pickle('./pickle/inspec/test ngram candidates')\n",
    "\n",
    "train_tf_nounphrase_corpus = utils.open_pickle('./pickle/inspec/train tf nounphrase corpus')\n",
    "test_tf_nounphrase_corpus = utils.open_pickle('./pickle/inspec/test tf nounphrase corpus')\n",
    "\n",
    "nounphrase_candidates = utils.open_pickle('./pickle/inspec/nounphrase candidates')\n",
    "test_nounphrase_candidates = utils.open_pickle('./pickle/inspec/test nounphrase candidates')\n",
    "\n",
    "supervised_corpus = utils.open_pickle('./pickle/inspec/supervised keyphraseness')\n",
    "np_supervised_key = utils.open_pickle('./pickle/inspec/np supervised keyphraseness')\n",
    "\n",
    "\n",
    "#create examples on training and testing data\n",
    "#uncomment if the pickles are not available\n",
    "'''\n",
    "print(\"Creating examples of n-gram on training and testing data..\")\n",
    "ngram_train = feature_extraction.create_features(train_data, \n",
    "                ngram_candidates, uncontr_train_label, \n",
    "                supervised_corpus, train_tf_corpus, \n",
    "                train_topics, name='./csv/inspec/mod_uncontr_train_ngram', \n",
    "                n_keyphrase = number_keyphrase)\n",
    "               \n",
    "ngram_test = feature_extraction.create_features(test_data, \n",
    "                test_ngram_candidates, uncontr_test_label, \n",
    "                supervised_corpus, test_tf_corpus,\n",
    "                test_topics, name='./csv/inspec/mod_uncontr_test_ngram',\n",
    "                n_keyphrase = number_keyphrase)\n",
    "\n",
    "\n",
    "print(\"Creating examples of noun phrase on training and testing data..\")\n",
    "nounphrase_train = feature_extraction.create_features(train_data,\n",
    "                nounphrase_candidates, uncontr_train_label, np_supervised_key, train_tf_nounphrase_corpus, \n",
    "                train_topics, name='./csv/inspec/uncontr_train_nounphrase', \n",
    "                n_keyphrase = number_keyphrase) \n",
    "\n",
    "nounphrase_test = feature_extraction.create_features(test_data, \n",
    "                test_nounphrase_candidates, uncontr_test_label, np_supervised_key, test_tf_nounphrase_corpus, \n",
    "                test_topics, name='./csv/inspec/uncontr_test_nounphrase', \n",
    "                n_keyphrase = number_keyphrase)\n",
    "'''\n",
    "\n",
    "#evaluation\n",
    "print(\"Evaluation on n-gram filter..\")\n",
    "ngram_prediction = generate_keyphrase.predict_data(test_ngram_candidates, \n",
    "                uncontr_test_label, train_data='./csv/inspec/uncontr_train_ngram', \n",
    "                test_data='./csv/inspec/uncontr_test_ngram', \n",
    "                n_keyphrase = number_keyphrase)\n",
    "print('Precision, recall, f-measure on 10 keywords - ngram :', ngram_prediction)\n",
    "\n",
    "#generate the result of prediction into excel\n",
    "ngram_prediction_keyphrase = generate_keyphrase.get_predicted_keyphrases(test_ngram_candidates,\n",
    "                    train_data='./csv/inspec/uncontr_train_ngram', \n",
    "                    test_data='./csv/inspec/uncontr_test_ngram', \n",
    "                    csv_name='./csv/inspec/uncontr predicted ngram keyphrases keywords', \n",
    "                    n_keyphrase = number_keyphrase)\n",
    "\n",
    "\n",
    "#evaluation\n",
    "print(\"Evaluation on noun phrase filter..\")\n",
    "np_prediction = generate_keyphrase.predict_data(test_nounphrase_candidates, uncontr_test_label, \n",
    "                train_data='./csv/inspec/uncontr_train_nounphrase', \n",
    "                test_data='./csv/inspec/uncontr_test_nounphrase', \n",
    "                n_keyphrase = number_keyphrase)\n",
    "print('Precision, recall, f-measure on top 10 keyphrase - nounphrase:', np_prediction)\n",
    "\n",
    "#generate the result of prediction into excel\n",
    "np_prediction_keyphrase = generate_keyphrase.get_predicted_keyphrases(test_nounphrase_candidates,\n",
    "                    train_data='./csv/inspec/uncontr_train_nounphrase', \n",
    "                    test_data='./csv/inspec/uncontr_test_nounphrase', \n",
    "                    csv_name='./csv/inspec/uncontr predicted np keyphrases keywords', \n",
    "                    n_keyphrase = number_keyphrase)\n"
   ]
  },
  {
   "cell_type": "code",
   "execution_count": 3,
   "metadata": {},
   "outputs": [
    {
     "name": "stderr",
     "output_type": "stream",
     "text": [
      "2018-08-27 16:59:44,614: DEBUG: findfont: Matching :family=sans-serif:style=normal:variant=normal:weight=normal:stretch=normal:size=10.0 to DejaVu Sans ('C:\\\\Users\\\\user\\\\AppData\\\\Roaming\\\\Python\\\\Python35\\\\site-packages\\\\matplotlib\\\\mpl-data\\\\fonts\\\\ttf\\\\DejaVuSans.ttf') with score of 0.050000\n",
      "2018-08-27 16:59:46,224: DEBUG: findfont: Matching :family=sans-serif:style=normal:variant=normal:weight=normal:stretch=normal:size=12.0 to DejaVu Sans ('C:\\\\Users\\\\user\\\\AppData\\\\Roaming\\\\Python\\\\Python35\\\\site-packages\\\\matplotlib\\\\mpl-data\\\\fonts\\\\ttf\\\\DejaVuSans.ttf') with score of 0.050000\n"
     ]
    },
    {
     "data": {
      "image/png": "[encoded data removed]",
      "text/plain": [
       "<Figure size 432x288 with 1 Axes>"
      ]
     },
     "metadata": {},
     "output_type": "display_data"
    },
    {
     "name": "stdout",
     "output_type": "stream",
     "text": [
      "Feature importance on noun phrase filter: None\n"
     ]
    }
   ],
   "source": [
    "#calculate feature importance\n",
    "weight = generate_keyphrase.feature_importance(train_data = './csv/inspec/uncontr_train_nounphrase_data.csv',\n",
    "                                            test_data = './csv/inspec/uncontr_test_nounphrase_data.csv',\n",
    "                                            name = 'Inspec')\n",
    "print('Feature importance on noun phrase filter:', weight)"
   ]
  },
  {
   "cell_type": "code",
   "execution_count": null,
   "metadata": {},
   "outputs": [],
   "source": []
  }
 ],
 "metadata": {
  "kernelspec": {
   "display_name": "Python 3",
   "language": "python",
   "name": "python3"
  },
  "language_info": {
   "codemirror_mode": {
    "name": "ipython",
    "version": 3
   },
   "file_extension": ".py",
   "mimetype": "text/x-python",
   "name": "python",
   "nbconvert_exporter": "python",
   "pygments_lexer": "ipython3",
   "version": "3.5.3"
  }
 },
 "nbformat": 4,
 "nbformat_minor": 2
}
