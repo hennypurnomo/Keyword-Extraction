{
 "cells": [
  {
   "cell_type": "code",
   "execution_count": 1,
   "metadata": {
    "scrolled": true
   },
   "outputs": [
    {
     "name": "stderr",
     "output_type": "stream",
     "text": [
      "C:\\Users\\user\\AppData\\Roaming\\Python\\Python35\\site-packages\\pandas_profiling\\plot.py:15: UserWarning: \n",
      "This call to matplotlib.use() has no effect because the backend has already\n",
      "been chosen; matplotlib.use() must be called *before* pylab, matplotlib.pyplot,\n",
      "or matplotlib.backends is imported for the first time.\n",
      "\n",
      "The backend was *originally* set to 'module://ipykernel.pylab.backend_inline' by the following code:\n",
      "  File \"C:\\Program Files\\Python35\\lib\\runpy.py\", line 193, in _run_module_as_main\n",
      "    \"__main__\", mod_spec)\n",
      "  File \"C:\\Program Files\\Python35\\lib\\runpy.py\", line 85, in _run_code\n",
      "    exec(code, run_globals)\n",
      "  File \"C:\\Users\\user\\AppData\\Roaming\\Python\\Python35\\site-packages\\ipykernel_launcher.py\", line 16, in <module>\n",
      "    app.launch_new_instance()\n",
      "  File \"C:\\Users\\user\\AppData\\Roaming\\Python\\Python35\\site-packages\\traitlets\\config\\application.py\", line 658, in launch_instance\n",
      "    app.start()\n",
      "  File \"C:\\Users\\user\\AppData\\Roaming\\Python\\Python35\\site-packages\\ipykernel\\kernelapp.py\", line 486, in start\n",
      "    self.io_loop.start()\n",
      "  File \"C:\\Users\\user\\AppData\\Roaming\\Python\\Python35\\site-packages\\tornado\\platform\\asyncio.py\", line 112, in start\n",
      "    self.asyncio_loop.run_forever()\n",
      "  File \"C:\\Program Files\\Python35\\lib\\asyncio\\base_events.py\", line 421, in run_forever\n",
      "    self._run_once()\n",
      "  File \"C:\\Program Files\\Python35\\lib\\asyncio\\base_events.py\", line 1424, in _run_once\n",
      "    handle._run()\n",
      "  File \"C:\\Program Files\\Python35\\lib\\asyncio\\events.py\", line 126, in _run\n",
      "    self._callback(*self._args)\n",
      "  File \"C:\\Users\\user\\AppData\\Roaming\\Python\\Python35\\site-packages\\tornado\\platform\\asyncio.py\", line 102, in _handle_events\n",
      "    handler_func(fileobj, events)\n",
      "  File \"C:\\Users\\user\\AppData\\Roaming\\Python\\Python35\\site-packages\\tornado\\stack_context.py\", line 276, in null_wrapper\n",
      "    return fn(*args, **kwargs)\n",
      "  File \"C:\\Users\\user\\AppData\\Roaming\\Python\\Python35\\site-packages\\zmq\\eventloop\\zmqstream.py\", line 450, in _handle_events\n",
      "    self._handle_recv()\n",
      "  File \"C:\\Users\\user\\AppData\\Roaming\\Python\\Python35\\site-packages\\zmq\\eventloop\\zmqstream.py\", line 480, in _handle_recv\n",
      "    self._run_callback(callback, msg)\n",
      "  File \"C:\\Users\\user\\AppData\\Roaming\\Python\\Python35\\site-packages\\zmq\\eventloop\\zmqstream.py\", line 432, in _run_callback\n",
      "    callback(*args, **kwargs)\n",
      "  File \"C:\\Users\\user\\AppData\\Roaming\\Python\\Python35\\site-packages\\tornado\\stack_context.py\", line 276, in null_wrapper\n",
      "    return fn(*args, **kwargs)\n",
      "  File \"C:\\Users\\user\\AppData\\Roaming\\Python\\Python35\\site-packages\\ipykernel\\kernelbase.py\", line 283, in dispatcher\n",
      "    return self.dispatch_shell(stream, msg)\n",
      "  File \"C:\\Users\\user\\AppData\\Roaming\\Python\\Python35\\site-packages\\ipykernel\\kernelbase.py\", line 233, in dispatch_shell\n",
      "    handler(stream, idents, msg)\n",
      "  File \"C:\\Users\\user\\AppData\\Roaming\\Python\\Python35\\site-packages\\ipykernel\\kernelbase.py\", line 399, in execute_request\n",
      "    user_expressions, allow_stdin)\n",
      "  File \"C:\\Users\\user\\AppData\\Roaming\\Python\\Python35\\site-packages\\ipykernel\\ipkernel.py\", line 208, in do_execute\n",
      "    res = shell.run_cell(code, store_history=store_history, silent=silent)\n",
      "  File \"C:\\Users\\user\\AppData\\Roaming\\Python\\Python35\\site-packages\\ipykernel\\zmqshell.py\", line 537, in run_cell\n",
      "    return super(ZMQInteractiveShell, self).run_cell(*args, **kwargs)\n",
      "  File \"C:\\Users\\user\\AppData\\Roaming\\Python\\Python35\\site-packages\\IPython\\core\\interactiveshell.py\", line 2662, in run_cell\n",
      "    raw_cell, store_history, silent, shell_futures)\n",
      "  File \"C:\\Users\\user\\AppData\\Roaming\\Python\\Python35\\site-packages\\IPython\\core\\interactiveshell.py\", line 2785, in _run_cell\n",
      "    interactivity=interactivity, compiler=compiler, result=result)\n",
      "  File \"C:\\Users\\user\\AppData\\Roaming\\Python\\Python35\\site-packages\\IPython\\core\\interactiveshell.py\", line 2903, in run_ast_nodes\n",
      "    if self.run_code(code, result):\n",
      "  File \"C:\\Users\\user\\AppData\\Roaming\\Python\\Python35\\site-packages\\IPython\\core\\interactiveshell.py\", line 2963, in run_code\n",
      "    exec(code_obj, self.user_global_ns, self.user_ns)\n",
      "  File \"<ipython-input-1-813f9d03841c>\", line 1, in <module>\n",
      "    get_ipython().run_line_magic('matplotlib', 'inline')\n",
      "  File \"C:\\Users\\user\\AppData\\Roaming\\Python\\Python35\\site-packages\\IPython\\core\\interactiveshell.py\", line 2131, in run_line_magic\n",
      "    result = fn(*args,**kwargs)\n",
      "  File \"<decorator-gen-108>\", line 2, in matplotlib\n",
      "  File \"C:\\Users\\user\\AppData\\Roaming\\Python\\Python35\\site-packages\\IPython\\core\\magic.py\", line 187, in <lambda>\n",
      "    call = lambda f, *a, **k: f(*a, **k)\n",
      "  File \"C:\\Users\\user\\AppData\\Roaming\\Python\\Python35\\site-packages\\IPython\\core\\magics\\pylab.py\", line 99, in matplotlib\n",
      "    gui, backend = self.shell.enable_matplotlib(args.gui)\n",
      "  File \"C:\\Users\\user\\AppData\\Roaming\\Python\\Python35\\site-packages\\IPython\\core\\interactiveshell.py\", line 3051, in enable_matplotlib\n",
      "    pt.activate_matplotlib(backend)\n",
      "  File \"C:\\Users\\user\\AppData\\Roaming\\Python\\Python35\\site-packages\\IPython\\core\\pylabtools.py\", line 311, in activate_matplotlib\n",
      "    matplotlib.pyplot.switch_backend(backend)\n",
      "  File \"C:\\Users\\user\\AppData\\Roaming\\Python\\Python35\\site-packages\\matplotlib\\pyplot.py\", line 231, in switch_backend\n",
      "    matplotlib.use(newbackend, warn=False, force=True)\n",
      "  File \"C:\\Users\\user\\AppData\\Roaming\\Python\\Python35\\site-packages\\matplotlib\\__init__.py\", line 1410, in use\n",
      "    reload(sys.modules['matplotlib.backends'])\n",
      "  File \"C:\\Program Files\\Python35\\lib\\importlib\\__init__.py\", line 166, in reload\n",
      "    _bootstrap._exec(spec, module)\n",
      "  File \"C:\\Users\\user\\AppData\\Roaming\\Python\\Python35\\site-packages\\matplotlib\\backends\\__init__.py\", line 16, in <module>\n",
      "    line for line in traceback.format_stack()\n",
      "\n",
      "\n",
      "  matplotlib.use(BACKEND)\n"
     ]
    }
   ],
   "source": [
    "%matplotlib inline\n",
    "import numpy as np\n",
    "import matplotlib.pyplot as plt\n",
    "import pandas as pd\n",
    "import pandas_profiling\n",
    "from pandas.plotting import scatter_matrix\n",
    "from pandas import DataFrame as df\n",
    "from sklearn.ensemble import RandomForestClassifier as rf\n",
    "from sklearn.linear_model import LogisticRegression as lr\n",
    "from sklearn.ensemble import ExtraTreesClassifier\n",
    "from sklearn.preprocessing import StandardScaler, MinMaxScaler"
   ]
  },
  {
   "cell_type": "code",
   "execution_count": 2,
   "metadata": {
    "scrolled": true
   },
   "outputs": [],
   "source": [
    "features = ['tf-idf', 'length', 'supervised_key', 'DPM-index', 'GDC', 'distance', \n",
    "            'back_distance', 'spread', 'topic_rank']\n",
    "\n",
    "x_train = pd.read_csv('./csv/500N-KPCrowd/train_ngram_data.csv')[features].fillna(value = 0).values\n",
    "y_train = pd.read_csv('./csv/500N-KPCrowd/train_ngram_data.csv')['label'].fillna(value = 0).values\n",
    "\n",
    "x_test = pd.read_csv('./csv/500N-KPCrowd/test_ngram_data.csv')[features].fillna(value = 0).values\n",
    "y_test = pd.read_csv('./csv/500N-KPCrowd/test_ngram_data.csv')['label'].fillna(value = 0).values"
   ]
  },
  {
   "cell_type": "code",
   "execution_count": 7,
   "metadata": {},
   "outputs": [
    {
     "name": "stdout",
     "output_type": "stream",
     "text": [
      "[('supervised_key', 0.5240131942049095), ('length', 0.16018366756341076), ('tf-idf', 0.1363545639533692), ('GDC', 0.08583833367358669), ('distance', 0.027488886179924392), ('back_distance', 0.02237450951513874), ('topic_rank', 0.016757440109056866), ('DPM-index', 0.013880796508681594), ('spread', 0.013108608291922345)]\n"
     ]
    },
    {
     "data": {
      "image/png": "[encoded data removed]",
      "text/plain": [
       "<Figure size 432x288 with 1 Axes>"
      ]
     },
     "metadata": {},
     "output_type": "display_data"
    }
   ],
   "source": [
    "# by Random Forest\n",
    "#xtrain = StandardScaler().fit_transform(x_train)\n",
    "# Build a forest and compute the feature importances\n",
    "from sklearn.ensemble import RandomForestClassifier as rf\n",
    "model = rf(n_estimators=20, max_depth = 11)\n",
    "model.fit(x_train, y_train)\n",
    "model.score(x_test, y_test)\n",
    "\n",
    "values = sorted(zip(features, model.feature_importances_), key=lambda x: x[1] * -1)\n",
    "print(values)\n",
    "\n",
    "plt.figure()\n",
    "plt.title(\"Feature importance\")\n",
    "plt.bar(range(len(values)), [val[1] for val in values],\n",
    "       color=\"b\", align=\"center\")\n",
    "plt.xticks(range(len(values)), [val[0] for val in values])\n",
    "plt.xticks(rotation=70)\n",
    "plt.savefig('./figure/Feature importances on news.png')\n",
    "plt.show()\n"
   ]
  },
  {
   "cell_type": "code",
   "execution_count": null,
   "metadata": {
    "scrolled": false
   },
   "outputs": [],
   "source": [
    "# by Random Forest\n",
    "#xtrain = StandardScaler().fit_transform(x_train)\n",
    "# Build a forest and compute the feature importances\n",
    "from sklearn.ensemble import RandomForestClassifier as rf\n",
    "\n",
    "rf1 = rf(n_estimators=20, max_depth = 11).fit(x_test, y_test)\n",
    "\n",
    "values1 = sorted(zip(features, rf1.feature_importances_), key=lambda x: x[1] * -1)\n",
    "print(values1)\n",
    "\n",
    "plt.figure()\n",
    "plt.title(\"Feature importance\")\n",
    "plt.bar(range(len(values1)), [val[1] for val in values1],\n",
    "       color=\"b\", align=\"center\")\n",
    "plt.xticks(range(len(values1)), [val[0] for val in values1])\n",
    "plt.xticks(rotation=70)\n",
    "plt.savefig('./figure/Feature importances on news.png')\n",
    "plt.show()\n",
    "\n"
   ]
  },
  {
   "cell_type": "code",
   "execution_count": null,
   "metadata": {
    "scrolled": true
   },
   "outputs": [],
   "source": [
    "data = pd.read_csv('./csv/500N-KPCrowd/9train_ngram_data.csv', index_col=0).fillna(value = 0)\n",
    "#pandas_profiling.ProfileReport(data)"
   ]
  },
  {
   "cell_type": "code",
   "execution_count": null,
   "metadata": {
    "scrolled": true
   },
   "outputs": [],
   "source": [
    "color = {1: \"#0392cf\", \n",
    "        2: \"#7bc043\"}\n",
    "colors = data['label'].map(lambda x: color.get(x + 1))\n",
    "matrix = scatter_matrix(data, color=colors, alpha=0.6, figsize=(20, 20), diagonal='hist')\n",
    "\n",
    "print(matrix)"
   ]
  },
  {
   "cell_type": "code",
   "execution_count": null,
   "metadata": {
    "scrolled": true
   },
   "outputs": [],
   "source": [
    "x_test = pd.read_csv('./csv/9xml_train_ngram_data.csv')[features].fillna(value = 0).values\n",
    "y_test = pd.read_csv('./csv/9xml_train_ngram_data.csv')['label'].fillna(value = 0).values"
   ]
  },
  {
   "cell_type": "code",
   "execution_count": null,
   "metadata": {
    "scrolled": true
   },
   "outputs": [],
   "source": [
    "#data.groupby('label').hist()\n",
    "only_label = data[data['label'] == 1]\n",
    "hist = only_label.hist()\n",
    "hist"
   ]
  },
  {
   "cell_type": "code",
   "execution_count": null,
   "metadata": {
    "scrolled": false
   },
   "outputs": [],
   "source": [
    "#only label\n",
    "pandas_profiling.ProfileReport(only_label)"
   ]
  },
  {
   "cell_type": "code",
   "execution_count": null,
   "metadata": {
    "scrolled": true
   },
   "outputs": [],
   "source": [
    "data.hist(bins=15)"
   ]
  },
  {
   "cell_type": "code",
   "execution_count": null,
   "metadata": {
    "scrolled": false
   },
   "outputs": [],
   "source": [
    "#by Logistic Regression\n",
    "#xtrain = StandardScaler().fit_transform(x_train)\n",
    "\n",
    "# Build a forest and compute the feature importances\n",
    "lr = lr(C = 1).fit(x_test, y_test)\n",
    "weight = lr.coef_\n",
    "print(weight[0])\n",
    "\n",
    "\n",
    "plt.figure()\n",
    "plt.title(\"Feature importances\")\n",
    "plt.bar(range(len(weight)), [val for val in weight[0]],\n",
    "       color=\"b\", align=\"center\")\n",
    "plt.xticks(range(len(features)), [val for val in features])\n",
    "plt.xticks(rotation=70)\n",
    "plt.savefig('Feature importances on ngram xml (LR).png')\n",
    "plt.show()\n"
   ]
  },
  {
   "cell_type": "code",
   "execution_count": null,
   "metadata": {
    "scrolled": false
   },
   "outputs": [],
   "source": [
    "# by decision tree\n",
    "et = ExtraTreesClassifier(n_estimators=20,\n",
    "                              max_depth = 11)\n",
    "\n",
    "et.fit(x_train, y_train)\n",
    "importances = et.feature_importances_\n",
    "std = np.std([tree.feature_importances_ for tree in et.estimators_],\n",
    "             axis=0)\n",
    "indices = np.argsort(importances)[::-1]\n",
    "\n",
    "# Print the feature ranking\n",
    "print(\"Feature ranking:\")\n",
    "\n",
    "for f in range(x_train.shape[1]):\n",
    "    print(\"%d. feature %d (%f)\" % (f + 1, indices[f], importances[indices[f]]))\n",
    "\n",
    "# Plot the feature importances of the forest\n",
    "plt.figure()\n",
    "plt.title(\"Feature importances\")\n",
    "plt.bar(range(x_train.shape[1]), importances[indices],\n",
    "       color=\"r\", yerr=std[indices], align=\"center\")\n",
    "plt.xticks(range(x_train.shape[1]), indices)\n",
    "plt.xlim([-1, x_train.shape[1]])\n",
    "plt.show()"
   ]
  },
  {
   "cell_type": "code",
   "execution_count": null,
   "metadata": {
    "scrolled": false
   },
   "outputs": [],
   "source": [
    "x_train=[[1,2,3,4,5,6],\n",
    "        [11,12,13,14,15,16],\n",
    "        [21,22,23,24,25,26],\n",
    "        [31,32,33,34,35,36]]\n",
    "for feature in range(0, len(x_train[0])):\n",
    "    print(\"Remove feature number\", feature+1)\n",
    "    modified_train = [doc[:feature] + doc[feature+1:] for doc in x_train] \n",
    "    print(modified_train)"
   ]
  },
  {
   "cell_type": "code",
   "execution_count": null,
   "metadata": {
    "scrolled": true
   },
   "outputs": [],
   "source": [
    "fs = generate_keyphrase.feature_selection(train_data='./csv/semeval/train_ngram')\n",
    "fs"
   ]
  }
 ],
 "metadata": {
  "kernelspec": {
   "display_name": "Python 3",
   "language": "python",
   "name": "python3"
  },
  "language_info": {
   "codemirror_mode": {
    "name": "ipython",
    "version": 3
   },
   "file_extension": ".py",
   "mimetype": "text/x-python",
   "name": "python",
   "nbconvert_exporter": "python",
   "pygments_lexer": "ipython3",
   "version": "3.5.3"
  }
 },
 "nbformat": 4,
 "nbformat_minor": 2
}
