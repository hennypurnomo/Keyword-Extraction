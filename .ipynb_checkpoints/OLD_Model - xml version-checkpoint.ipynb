{
 "cells": [
  {
   "cell_type": "code",
   "execution_count": 1,
   "metadata": {
    "scrolled": true
   },
   "outputs": [
    {
     "name": "stderr",
     "output_type": "stream",
     "text": [
      "2018-08-26 09:26:50,507: DEBUG: CACHEDIR=C:\\Users\\user\\.matplotlib\n",
      "2018-08-26 09:26:50,533: DEBUG: Using fontManager instance from C:\\Users\\user\\.matplotlib\\fontList.json\n",
      "2018-08-26 09:26:53,360: DEBUG: backend module://ipykernel.pylab.backend_inline version unknown\n",
      "2018-08-26 09:26:55,582: DEBUG: backend module://ipykernel.pylab.backend_inline version unknown\n"
     ]
    }
   ],
   "source": [
    "\n",
    "\n",
    "import glob, os\n",
    "import utils, preprocessing, generate_candidate\n",
    "import feature_extraction, generate_keyphrase\n",
    "\n",
    "#there are 3 number of selection, which are 5, 10, 15\n",
    "number_keyphrase = 15"
   ]
  },
  {
   "cell_type": "code",
   "execution_count": null,
   "metadata": {},
   "outputs": [],
   "source": [
    "#if these files are exist on pickle, please skip into next step\n",
    "#load gold keyphrase\n",
    "\n",
    "train_label_directory = open('./data/se_txt/train/train.combined.stem.final', \n",
    "                        encoding='utf-8').read()\n",
    "train_label = preprocessing.extract_keyphrase(train_label_directory)\n",
    "pickle_train_label = utils.create_pickle(train_label, './pickle/semeval/train label')\n",
    "\n",
    "test_label_directory = open('./data/se_txt/test_answer/test.combined.stem.final', \n",
    "                            encoding='utf-8').read()\n",
    "test_label = preprocessing.extract_keyphrase(test_label_directory)\n",
    "pickle_test_label = utils.create_pickle(test_label, './pickle/semeval/test label')"
   ]
  },
  {
   "cell_type": "code",
   "execution_count": null,
   "metadata": {
    "scrolled": true
   },
   "outputs": [],
   "source": [
    "#only run one time, if pickles have been generated, please skip into next step\n",
    "#this section is intended to create candidates, supervised keyphraseness\n",
    "\n",
    "#load train and test data\n",
    "train_directory = glob.glob('./data/se_xml/train/*.xml')\n",
    "train_raw = preprocessing.load_xml(train_directory)\n",
    "pickle_train_raw = utils.create_pickle(train_raw,'./pickle/semeval/xml train raw')\n",
    "train_data = preprocessing.create_xml_corpus(train_raw)\n",
    "pickle_train_data = utils.create_pickle(train_data,'./pickle/semeval/xml train data')\n",
    "train_tf_corpus = feature_extraction.calculate_tf(train_data, vocab = None, type = 'ngram')\n",
    "pickle_train_tf_corpus = utils.create_pickle(train_tf_corpus,'./pickle/semeval/xml train tf corpus')\n",
    "\n",
    "test_directory = glob.glob('./data/se_xml/test/*.xml')\n",
    "test_raw = preprocessing.load_xml(test_directory)\n",
    "pickle_test_raw = utils.create_pickle(test_raw,\n",
    "                                      './pickle/semeval/xml test raw')\n",
    "test_data = preprocessing.create_xml_corpus(test_raw)\n",
    "pickle_test_data = utils.create_pickle(test_data,\n",
    "                                       './pickle/semeval/xml test data')\n",
    "test_tf_corpus = feature_extraction.calculate_tf(test_data, vocab = None, type = 'ngram')\n",
    "pickle_test_tf_corpus = utils.create_pickle(test_tf_corpus,\n",
    "                                            './pickle/semeval/xml test tf corpus')\n",
    "\n",
    "#create candidates based on ngram and store into pickle\n",
    "ngram_candidates = generate_candidate.calculate_tfidf(train_data, vocab=None, type='ngram') \n",
    "pickle_ngram_candidates = utils.create_pickle(ngram_candidates, \n",
    "                            './pickle/semeval/xml ngram candidates')\n",
    "\n",
    "test_ngram_candidates = generate_candidate.calculate_tfidf(test_data, vocab=None, type='ngram') \n",
    "pickle_test_ngram_candidates = utils.create_pickle(test_ngram_candidates, \n",
    "                            './pickle/semeval/xml test ngram candidates')\n",
    "\n",
    "#create candidates based on noun phrase and store into pickle\n",
    "nounphrase_vocabulary = generate_candidate.create_phrase_vocabulary(train_data)\n",
    "train_tf_nounphrase_corpus = feature_extraction.calculate_tf(train_data, \n",
    "                            vocab = nounphrase_vocabulary, type = 'np')\n",
    "pickle_train_tf_nounphrase_corpus = utils.create_pickle(train_tf_nounphrase_corpus,\n",
    "                            './pickle/semeval/xml train tf nounphrase corpus')\n",
    "nounphrase_candidates = generate_candidate.calculate_tfidf(train_data, \n",
    "                            nounphrase_vocabulary, type='np')\n",
    "pickle_nounphrase_candidates = utils.create_pickle(nounphrase_candidates, \n",
    "                            './pickle/semeval/xml nounphrase candidates')\n",
    "\n",
    "test_nounphrase_vocabulary = generate_candidate.create_phrase_vocabulary(test_data)\n",
    "test_tf_nounphrase_corpus = feature_extraction.calculate_tf(test_data, \n",
    "                            vocab = test_nounphrase_vocabulary, type = 'np')\n",
    "pickle_test_tf_nounphrase_corpus = utils.create_pickle(test_tf_nounphrase_corpus,\n",
    "                            './pickle/semeval/xml test tf new nounphrase corpus')\n",
    "test_nounphrase_candidates = generate_candidate.calculate_tfidf(test_data, \n",
    "                            test_nounphrase_vocabulary, type='np')\n",
    "pickle_test_nounphrase_candidates = utils.create_pickle(test_nounphrase_candidates, \n",
    "                            './pickle/semeval/xml test nounphrase candidates')\n",
    "\n",
    "\n",
    "\n",
    "#create dictionary for supervised keyphraseness for both ngram and noun phrase\n",
    "supervised_key = feature_extraction.create_supervised_list(train_label, train_tf_corpus)\n",
    "supervised_corpus = utils.create_pickle(supervised_key, './pickle/semeval/xml ngram supervised keyphraseness')\n",
    "\n",
    "np_supervised_key = feature_extraction.create_supervised_list(train_label, train_tf_nounphrase_corpus)\n",
    "np_supervised_corpus = utils.create_pickle(np_supervised_key, './pickle/semeval/xml np supervised keyphraseness')"
   ]
  },
  {
   "cell_type": "code",
   "execution_count": 2,
   "metadata": {},
   "outputs": [
    {
     "name": "stdout",
     "output_type": "stream",
     "text": [
      "Opening all pickles\n"
     ]
    }
   ],
   "source": [
    "#opening all relevant pickles\n",
    "\n",
    "print(\"Opening all pickles\")\n",
    "train_raw = utils.open_pickle('./pickle/semeval/xml train raw')\n",
    "train_data = utils.open_pickle('./pickle/semeval/xml train data')\n",
    "\n",
    "train_label = utils.open_pickle('./pickle/semeval/train label')\n",
    "train_tf_corpus = utils.open_pickle('./pickle/semeval/xml train tf corpus')\n",
    "train_tf_nounphrase_corpus = utils.open_pickle('./pickle/semeval/xml train tf nounphrase corpus')\n",
    "\n",
    "test_raw = utils.open_pickle('./pickle/semeval/xml test raw')\n",
    "test_data = utils.open_pickle('./pickle/semeval/xml test data')\n",
    "\n",
    "test_label = utils.open_pickle('./pickle/semeval/test label')\n",
    "test_tf_corpus = utils.open_pickle('./pickle/semeval/xml test tf corpus')\n",
    "test_tf_nounphrase_corpus = utils.open_pickle('./pickle/semeval/xml test tf nounphrase corpus')\n",
    "\n",
    "train_topics = utils.open_pickle('./pickle/semeval/xml train topics')\n",
    "test_topics = utils.open_pickle('./pickle/semeval/xml test topics')\n",
    "\n",
    "ngram_candidates = utils.open_pickle('./pickle/semeval/xml ngram candidates')\n",
    "test_ngram_candidates = utils.open_pickle('./pickle/semeval/xml test ngram candidates')\n",
    "\n",
    "nounphrase_candidates = utils.open_pickle('./pickle/semeval/xml nounphrase candidates')\n",
    "test_nounphrase_candidates = utils.open_pickle('./pickle/semeval/xml test nounphrase candidates')\n",
    "\n",
    "supervised_key = utils.open_pickle('./pickle/semeval/xml ngram supervised keyphraseness')\n",
    "np_supervised_key = utils.open_pickle('./pickle/semeval/xml np supervised keyphraseness')"
   ]
  },
  {
   "cell_type": "code",
   "execution_count": null,
   "metadata": {},
   "outputs": [],
   "source": [
    "#create features in training and testing data, \n",
    "#if those csv have been available, please skip to the next step\n",
    "\n",
    "print(\"creating xml ngram examples..\")\n",
    "\n",
    "ngram_train = feature_extraction.create_features(train_data, \n",
    "                ngram_candidates, train_label, supervised_key, train_tf_corpus, \n",
    "                train_topics, name='./csv/semeval/xml_train_ngram', \n",
    "                n_keyphrase = number_keyphrase)\n",
    "\n",
    "\n",
    "ngram_test = feature_extraction.create_features(test_data, \n",
    "                test_ngram_candidates, test_label, supervised_key, test_tf_corpus, \n",
    "                test_topics, name='./csv/semeval/xml_test_ngram', \n",
    "                n_keyphrase = number_keyphrase)\n",
    "\n",
    "\n",
    "nounphrase_train = feature_extraction.create_features(train_data,\n",
    "                nounphrase_candidates, train_label, np_supervised_key, train_tf_nounphrase_corpus, \n",
    "                train_topics, name='./csv/semeval/xml_train_nounphrase', \n",
    "                n_keyphrase = number_keyphrase) \n",
    "\n",
    "nounphrase_test = feature_extraction.create_features(test_data, \n",
    "                test_nounphrase_candidates, test_label, np_supervised_key, test_tf_nounphrase_corpus, \n",
    "                test_topics, name='./csv/semeval/xml_test_nounphrase', \n",
    "                n_keyphrase = number_keyphrase)\n"
   ]
  },
  {
   "cell_type": "code",
   "execution_count": 3,
   "metadata": {
    "scrolled": true
   },
   "outputs": [
    {
     "name": "stdout",
     "output_type": "stream",
     "text": [
      "Evaluation on model - xml:\n"
     ]
    }
   ],
   "source": [
    "#evaluation part\n",
    "print('Evaluation on model - xml:')\n",
    "'''\n",
    "ngram_prediction = generate_keyphrase.predict_data(test_ngram_candidates, \n",
    "                test_label, train_data='./csv/semeval/xml_train_ngram', \n",
    "                test_data='./csv/semeval/xml_test_ngram', \n",
    "                n_keyphrase = number_keyphrase)\n",
    "print('Evaluation metric on top 15 candidates', ngram_prediction)\n",
    "'''\n",
    "\n",
    "ngram_prediction_keyphrase = generate_keyphrase.get_predicted_keyphrases(test_ngram_candidates,\n",
    "                    train_data='./csv/semeval/xml_train_ngram', \n",
    "                    test_data='./csv/semeval/xml_test_ngram', \n",
    "                    csv_name='./csv/semeval/xml predicted ngram keyphrases keywords', \n",
    "                    n_keyphrase = number_keyphrase)\n",
    "\n",
    "'''\n",
    "nounphrase_prediction = generate_keyphrase.predict_data(test_nounphrase_candidates, \n",
    "                test_label, train_data='./csv/semeval/xml_train_nounphrase', \n",
    "                test_data='./csv/semeval/xml_test_nounphrase', \n",
    "                n_keyphrase = number_keyphrase)\n",
    "print('Evaluation metric on top 15 candidates', nounphrase_prediction)\n",
    "'''\n",
    "#generate the result of prediction into excel\n",
    "nounphrase_prediction_keyphrase = generate_keyphrase.get_predicted_keyphrases(test_nounphrase_candidates,\n",
    "                    train_data='./csv/semeval/xml_train_nounphrase', \n",
    "                    test_data='./csv/semeval/xml_test_nounphrase', \n",
    "                    csv_name='./csv/semeval/xml predicted nounphrase keyphrases', \n",
    "                    n_keyphrase = number_keyphrase)\n"
   ]
  },
  {
   "cell_type": "code",
   "execution_count": null,
   "metadata": {},
   "outputs": [],
   "source": []
  },
  {
   "cell_type": "code",
   "execution_count": null,
   "metadata": {},
   "outputs": [],
   "source": [
    "#test model\n",
    "\n",
    "ngram_prediction = generate_keyphrase.cross_validation( \n",
    "                train_label, train_data='./csv/semeval/xml_train_ngram' \n",
    "                )\n",
    "print(ngram_prediction)\n",
    "\n",
    "np_prediction = generate_keyphrase.cross_validation( \n",
    "                train_label, train_data='./csv/semeval/xml_train_nounphrase' \n",
    "                )\n",
    "print(np_prediction)"
   ]
  },
  {
   "cell_type": "code",
   "execution_count": null,
   "metadata": {},
   "outputs": [],
   "source": [
    "##test feature selection\n",
    "\n",
    "nounphrase_prediction = generate_keyphrase.predict_data(test_nounphrase_candidates, \n",
    "                test_label, train_data='./csv/semeval/xml_train_nounphrase', \n",
    "                test_data='./csv/semeval/xml_test_nounphrase', \n",
    "                n_keyphrase = number_keyphrase)\n",
    "print('full', nounphrase_prediction)\n",
    "\n",
    "dpmnounphrase_prediction = generate_keyphrase.predict_data(test_nounphrase_candidates, \n",
    "                test_label, train_data='./csv/semeval/dpmxml_train_nounphrase', \n",
    "                test_data='./csv/semeval/dpmxml_test_nounphrase', \n",
    "                n_keyphrase = number_keyphrase)\n",
    "print('Minus dpm', dpmnounphrase_prediction)\n",
    "\n",
    "topicnounphrase_prediction = generate_keyphrase.predict_data(test_nounphrase_candidates, \n",
    "                test_label, train_data='./csv/semeval/topicxml_train_nounphrase', \n",
    "                test_data='./csv/semeval/topicxml_test_nounphrase', \n",
    "                n_keyphrase = number_keyphrase)\n",
    "print('Minus topic', topicnounphrase_prediction)\n",
    "\n",
    "keynounphrase_prediction = generate_keyphrase.predict_data(test_nounphrase_candidates, \n",
    "                test_label, train_data='./csv/semeval/keyxml_train_nounphrase', \n",
    "                test_data='./csv/semeval/keyxml_test_nounphrase', \n",
    "                n_keyphrase = number_keyphrase)\n",
    "print('Minus key', keynounphrase_prediction)\n",
    "\n",
    "lengthnounphrase_prediction = generate_keyphrase.predict_data(test_nounphrase_candidates, \n",
    "                test_label, train_data='./csv/semeval/lengthxml_train_nounphrase', \n",
    "                test_data='./csv/semeval/lengthxml_test_nounphrase', \n",
    "                n_keyphrase = number_keyphrase)\n",
    "print('Minus length', lengthnounphrase_prediction)\n",
    "\n",
    "minnounphrase_prediction = generate_keyphrase.predict_data(test_nounphrase_candidates, \n",
    "                test_label, train_data='./csv/semeval/minxml_train_nounphrase', \n",
    "                test_data='./csv/semeval/minxml_test_nounphrase', \n",
    "                n_keyphrase = number_keyphrase)\n",
    "print('Minus all min', minnounphrase_prediction)\n",
    "\n",
    "tfidfnounphrase_prediction = generate_keyphrase.predict_data(test_nounphrase_candidates, \n",
    "                test_label, train_data='./csv/semeval/tfidfxml_train_nounphrase', \n",
    "                test_data='./csv/semeval/tfidfxml_test_nounphrase', \n",
    "                n_keyphrase = number_keyphrase)\n",
    "print('Minus tfidf', tfidfnounphrase_prediction)\n",
    "\n",
    "tflnounphrase_prediction = generate_keyphrase.predict_data(test_nounphrase_candidates, \n",
    "                test_label, train_data='./csv/semeval/tflxml_train_nounphrase', \n",
    "                test_data='./csv/semeval/tflxml_test_nounphrase', \n",
    "                n_keyphrase = number_keyphrase)\n",
    "print('Minus all min', tflnounphrase_prediction)"
   ]
  },
  {
   "cell_type": "code",
   "execution_count": null,
   "metadata": {},
   "outputs": [],
   "source": [
    "fs = generate_keyphrase.feature_selection(train_data='./csv/semeval/xml_train_ngram')\n",
    "fs"
   ]
  },
  {
   "cell_type": "code",
   "execution_count": null,
   "metadata": {},
   "outputs": [],
   "source": [
    "fs = generate_keyphrase.feature_selection(train_data='./csv/semeval/xml_train_nounphrase')\n",
    "fs"
   ]
  },
  {
   "cell_type": "code",
   "execution_count": null,
   "metadata": {},
   "outputs": [],
   "source": []
  },
  {
   "cell_type": "code",
   "execution_count": null,
   "metadata": {},
   "outputs": [],
   "source": []
  }
 ],
 "metadata": {
  "kernelspec": {
   "display_name": "Python 3",
   "language": "python",
   "name": "python3"
  },
  "language_info": {
   "codemirror_mode": {
    "name": "ipython",
    "version": 3
   },
   "file_extension": ".py",
   "mimetype": "text/x-python",
   "name": "python",
   "nbconvert_exporter": "python",
   "pygments_lexer": "ipython3",
   "version": "3.5.3"
  }
 },
 "nbformat": 4,
 "nbformat_minor": 2
}
