{
 "cells": [
  {
   "cell_type": "code",
   "execution_count": null,
   "metadata": {},
   "outputs": [],
   "source": [
    "%matplotlib inline\n",
    "import numpy as np\n",
    "import matplotlib.pyplot as plt\n",
    "import pandas as pd\n",
    "import pandas_profiling\n",
    "from pandas.plotting import scatter_matrix\n",
    "from pandas import DataFrame as df\n",
    "from sklearn.ensemble import RandomForestClassifier as rf\n",
    "from sklearn.linear_model import LogisticRegression as lr\n",
    "from sklearn.ensemble import ExtraTreesClassifier\n",
    "from sklearn.preprocessing import StandardScaler, MinMaxScaler"
   ]
  },
  {
   "cell_type": "code",
   "execution_count": null,
   "metadata": {},
   "outputs": [],
   "source": [
    "test_ngram = pd.read_csv('./csv/semeval/xml_test_ngram_data.csv', index_col=0).fillna(value = 0)\n",
    "test_ngram = test_ngram[test_ngram['label'] == 1]\n",
    "inspec_test_ngram = pd.read_csv('./csv/inspec/uncontr_test_ngram_data.csv', index_col=0).fillna(value = 0)\n",
    "inspec_test_ngram = inspec_test_ngram[inspec_test_ngram['label'] == 1]\n",
    "news_test_ngram = pd.read_csv('./csv/500N-KPCrowd/test_ngram_data.csv', index_col=0).fillna(value = 0)\n",
    "news_test_ngram = news_test_ngram[news_test_ngram['label'] == 1]\n",
    "\n",
    "news_test_ngram = news_test_ngram[['supervised_key','tf-idf','length','distance','back_distance','spread','tf','GDC','topic_rank']].hist(figsize=(30,30), bins=5, layout=(3, 3))"
   ]
  },
  {
   "cell_type": "code",
   "execution_count": null,
   "metadata": {},
   "outputs": [],
   "source": [
    "test_ngram = test_ngram[['tf-idf','length', 'supervised_key']].hist(figsize=(30,30), bins=8, layout=(3, 3))"
   ]
  },
  {
   "cell_type": "code",
   "execution_count": null,
   "metadata": {},
   "outputs": [],
   "source": [
    "inspec_test_ngram = inspec_test_ngram[['tf-idf','length','supervised_key']].hist(figsize=(30,30), bins=5, layout=(3, 3))"
   ]
  },
  {
   "cell_type": "code",
   "execution_count": null,
   "metadata": {},
   "outputs": [],
   "source": [
    "from itertools import chain\n",
    "\n",
    "label = [['banana','bread','machine learning'],\n",
    "        ['high performance computing','doraemon']]\n",
    "\n",
    "tf_corpus = [[('banana',1), ('learning',1), ('machine learning',3)],\n",
    "            [('computing',2),('high performance computing',2), ('doraemon',1)]]\n",
    "\n",
    "candidates = [['banana','bread','learning'],\n",
    "        ['computing','doraemon']]\n",
    "\n",
    "def feature_frequency(label, tf_corpus, candidates): \n",
    "    #merge the supervised label\n",
    "    merged_labels = list(chain.from_iterable(label))\n",
    "    frequency = []\n",
    "    for n_doc in tf_corpus:\n",
    "        doc = {}\n",
    "        cand_perdoc = [x[0] for x in n_doc]\n",
    "        for n_cand, value in n_doc:\n",
    "            #supervised feature\n",
    "            term_tf = value\n",
    "            \n",
    "            if n_cand not in merged_labels:\n",
    "                supervised = 0\n",
    "            else:\n",
    "                supervised = term_tf\n",
    "                doc[n_cand] = ((supervised))\n",
    "        frequency.append(doc) \n",
    "\n",
    "        #mapping the result with candidate order\n",
    "        feature = []\n",
    "        for n_doc in range(len(candidates)):\n",
    "            doc = []\n",
    "            for n_cand in candidates[n_doc]:\n",
    "                for term, value in frequency[n_doc].items():\n",
    "                    if n_cand[0] == term:\n",
    "                        doc.append((value))\n",
    "            feature.append(doc)\n",
    "    return feature\n",
    "\n",
    "print(feature_frequency(label, tf_corpus, candidates))"
   ]
  },
  {
   "cell_type": "code",
   "execution_count": 1,
   "metadata": {},
   "outputs": [
    {
     "name": "stdout",
     "output_type": "stream",
     "text": [
      "[{'banana': 1, 'machine learning': 3}, {'high performance computing': 2, 'doraemon': 1}]\n",
      "[{'banana': 1, 'machine learning': 3}, {'high performance computing': 2, 'doraemon': 1}]\n"
     ]
    }
   ],
   "source": [
    "from itertools import chain\n",
    "\n",
    "label = [['banana','bread','machine learning'],\n",
    "        ['high performance computing','doraemon']]\n",
    "\n",
    "tf_corpus = [[('banana',1), ('learning',1), ('machine learning',3)],\n",
    "            [('computing',2),('high performance computing',2), ('doraemon',1)]]\n",
    "\n",
    "candidates = [['banana','machine learning','learning'],\n",
    "        ['computing','doraemon','high performance computing']]\n",
    "\n",
    "merged_labels = list(chain.from_iterable(label))\n",
    "frequency = []\n",
    "for n_doc in tf_corpus:\n",
    "    doc = {}\n",
    "    cand_perdoc = [x[0] for x in n_doc]\n",
    "    for n_cand, value in n_doc:\n",
    "        #supervised feature\n",
    "        term_tf = value   \n",
    "        if n_cand not in merged_labels:\n",
    "            supervised = 0\n",
    "        else:\n",
    "            supervised = term_tf\n",
    "            doc[n_cand] = ((supervised))\n",
    "    frequency.append(doc) \n",
    "print(frequency)"
   ]
  },
  {
   "cell_type": "code",
   "execution_count": null,
   "metadata": {},
   "outputs": [],
   "source": [
    "n_doc = ['apple','banana','orange']\n",
    "\n",
    "feature = []\n",
    "for n_cand, value in n_doc:\n",
    "    #supervised feature\n",
    "    term_tf = value   \n",
    "    if n_cand not in merged_labels:\n",
    "        supervised = 0\n",
    "    else:\n",
    "        supervised = term_tf\n",
    "        doc[n_cand] = ((supervised))\n",
    "    frequency.append(doc) "
   ]
  }
 ],
 "metadata": {
  "kernelspec": {
   "display_name": "Python 3",
   "language": "python",
   "name": "python3"
  },
  "language_info": {
   "codemirror_mode": {
    "name": "ipython",
    "version": 3
   },
   "file_extension": ".py",
   "mimetype": "text/x-python",
   "name": "python",
   "nbconvert_exporter": "python",
   "pygments_lexer": "ipython3",
   "version": "3.5.3"
  }
 },
 "nbformat": 4,
 "nbformat_minor": 2
}
