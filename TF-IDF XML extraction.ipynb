{
 "cells": [
  {
   "cell_type": "code",
   "execution_count": 1,
   "metadata": {},
   "outputs": [],
   "source": [
    "#This file contains noun phrase and n-gram filters on xml version\n",
    "\n",
    "import glob, utils, preprocessing, generate_candidate, generate_keyphrase\n",
    "\n",
    "#input the number of keyphrase, default is 15\n",
    "number_keyphrase = 15"
   ]
  },
  {
   "cell_type": "code",
   "execution_count": null,
   "metadata": {},
   "outputs": [],
   "source": [
    "#only run one time, if pickles have been generated, please skip into next step\n",
    "\n",
    "#load and create training data\n",
    "train_directory = glob.glob('./data/se_xml/train/*.xml')\n",
    "train_raw = preprocessing.load_xml(train_directory)\n",
    "pickle_train_raw = utils.create_pickle(train_raw,'./pickle/semeval/xml train raw')\n",
    "train_data = preprocessing.create_xml_corpus(train_raw)\n",
    "pickle_train_data = utils.create_pickle(train_data,'./pickle/semeval/xml train data')\n",
    "train_tf_corpus = feature_extraction.calculate_tf(train_data, vocab = None, type = 'ngram')\n",
    "pickle_train_tf_corpus = utils.create_pickle(train_tf_corpus,'./pickle/semeval/xml train tf corpus')\n",
    "\n",
    "#load and create testing data\n",
    "test_directory = glob.glob('./data/se_xml/test/*.xml')\n",
    "test_raw = preprocessing.load_xml(test_directory)\n",
    "pickle_test_raw = utils.create_pickle(test_raw,\n",
    "                                      './pickle/semeval/xml test raw')\n",
    "test_data = preprocessing.create_xml_corpus(test_raw)\n",
    "pickle_test_data = utils.create_pickle(test_data,\n",
    "                                       './pickle/semeval/xml test data')\n",
    "test_tf_corpus = feature_extraction.calculate_tf(test_data, vocab = None, type = 'ngram')\n",
    "pickle_test_tf_corpus = utils.create_pickle(test_tf_corpus,\n",
    "                                            './pickle/semeval/xml test tf corpus')\n",
    "\n",
    "#generate the ngram version\n",
    "print(\"Generating TF-IDF n-gram candidates..\")\n",
    "ngram_candidates = generate_candidate.calculate_tfidf(train_data, vocab=None, type='ngram') \n",
    "pickle_ngram_candidates = utils.create_pickle(ngram_candidates, \n",
    "                            './pickle/semeval/xml ngram candidates')\n",
    "\n",
    "test_ngram_candidates = generate_candidate.calculate_tfidf(test_data, vocab=None, type='ngram') \n",
    "pickle_test_ngram_candidates = utils.create_pickle(test_ngram_candidates, \n",
    "                            './pickle/semeval/xml test ngram candidates')\n",
    "\n",
    "#generate the noun phrase version\n",
    "print(\"Generating TF-IDF noun phrase candidates..\")\n",
    "nounphrase_vocabulary = generate_candidate.create_phrase_vocabulary(train_data)\n",
    "train_tf_nounphrase_corpus = feature_extraction.calculate_tf(train_data, \n",
    "                            vocab = nounphrase_vocabulary, type = 'np')\n",
    "pickle_train_tf_nounphrase_corpus = utils.create_pickle(train_tf_nounphrase_corpus,\n",
    "                            './pickle/semeval/xml train tf new nounphrase corpus')\n",
    "nounphrase_candidates = generate_candidate.calculate_tfidf(train_data, \n",
    "                            nounphrase_vocabulary, type='np')\n",
    "pickle_nounphrase_candidates = utils.create_pickle(nounphrase_candidates, \n",
    "                            './pickle/semeval/xml nounphrase candidates')\n",
    "\n",
    "test_nounphrase_vocabulary = generate_candidate.create_phrase_vocabulary(test_data)\n",
    "test_tf_nounphrase_corpus = feature_extraction.calculate_tf(test_data, \n",
    "                            vocab = test_nounphrase_vocabulary, type = 'np')\n",
    "pickle_test_tf_nounphrase_corpus = utils.create_pickle(test_tf_nounphrase_corpus,\n",
    "                            './pickle/semeval/xml test tf new nounphrase corpus')\n",
    "test_nounphrase_candidates = generate_candidate.calculate_tfidf(test_data, \n",
    "                            test_nounphrase_vocabulary, type='np')\n",
    "pickle_test_nounphrase_candidates = utils.create_pickle(test_nounphrase_candidates, \n",
    "                            './pickle/semeval/xml test nounphrase candidates')"
   ]
  },
  {
   "cell_type": "code",
   "execution_count": null,
   "metadata": {},
   "outputs": [],
   "source": [
    "#if these files are exist on pickle, please skip into next step\n",
    "\n",
    "#load gold-standard keyphrase\n",
    "train_label_directory = open('./data/se_txt/train/train.combined.stem.final', \n",
    "                        encoding='utf-8').read()\n",
    "train_label = preprocessing.extract_keyphrase(train_label_directory)\n",
    "pickle_train_label = utils.create_pickle(train_label, './pickle/semeval/train label')\n",
    "test_label_directory = open('./data/se_txt/test_answer/test.combined.stem.final', \n",
    "                            encoding='utf-8').read()\n",
    "test_label = preprocessing.extract_keyphrase(test_label_directory)\n",
    "pickle_test_label = utils.create_pickle(test_label, './pickle/semeval/test label')"
   ]
  },
  {
   "cell_type": "code",
   "execution_count": 2,
   "metadata": {},
   "outputs": [
    {
     "name": "stdout",
     "output_type": "stream",
     "text": [
      "TF-IDF n-gram version:\n",
      "Precision, recall, f-measure on ngram training : (15.28, 14.59, 14.93)\n",
      "Precision, recall, f-measure on ngram testing: (16.0, 15.87, 15.93)\n",
      "TF-IDF noun phrase version:\n",
      "Precision, recall, f-measure on noun phrase training: (16.11, 15.38, 15.74)\n",
      "Precision, recall, f-measure on noun phrase testing: (16.47, 16.34, 16.4)\n"
     ]
    }
   ],
   "source": [
    "#evaluation of TF-IDF extraction on xml\n",
    "\n",
    "#load all relevant pickles into memory\n",
    "train_label = utils.open_pickle('./pickle/semeval/train label')\n",
    "test_label = utils.open_pickle('./pickle/semeval/test label')\n",
    "\n",
    "ngram_candidates = utils.open_pickle('./pickle/semeval/xml ngram candidates')\n",
    "test_ngram_candidates = utils.open_pickle('./pickle/semeval/xml test ngram candidates')\n",
    "\n",
    "nounphrase_candidates = utils.open_pickle('./pickle/semeval/xml nounphrase candidates')\n",
    "test_nounphrase_candidates = utils.open_pickle('./pickle/semeval/xml test nounphrase candidates')\n",
    "\n",
    "#evaluate TF-IDF extraction\n",
    "print(\"TF-IDF n-gram version:\")\n",
    "ngram_top_keyphrases = generate_keyphrase.get_tf_keyphrase(ngram_candidates, 15, csv_name='./csv/tfidf xml train ngram')\n",
    "ngram_fmeasure = generate_keyphrase.calculate_fmeasure(ngram_top_keyphrases, train_label, 15)\n",
    "print(\"Precision, recall, f-measure on ngram training :\", ngram_fmeasure)\n",
    "\n",
    "test_ngram_top_candidates = generate_keyphrase.get_tf_keyphrase(test_ngram_candidates, 15, csv_name='./csv/tfidf xml test ngram')\n",
    "test_ngram_fmeasure = generate_keyphrase.calculate_fmeasure(test_ngram_top_candidates, test_label, 15)\n",
    "print(\"Precision, recall, f-measure on ngram testing:\", test_ngram_fmeasure)\n",
    "\n",
    "print(\"TF-IDF noun phrase version:\")\n",
    "nounphrase_top_keyphrases = generate_keyphrase.get_tf_keyphrase(nounphrase_candidates, 15, csv_name='./csv/tfidf xml train nounphrase')\n",
    "nounphrase_fmeasure = generate_keyphrase.calculate_fmeasure(nounphrase_top_keyphrases, train_label, 15)\n",
    "print(\"Precision, recall, f-measure on noun phrase training:\", nounphrase_fmeasure)\n",
    "\n",
    "test_nounphrase_top_candidates = generate_keyphrase.get_tf_keyphrase(test_nounphrase_candidates, 15, csv_name='./csv/tfidf xml test nounphrase')\n",
    "test_nounphrase_fmeasure = generate_keyphrase.calculate_fmeasure(test_nounphrase_top_candidates, test_label, 15)\n",
    "print(\"Precision, recall, f-measure on noun phrase testing:\", test_nounphrase_fmeasure)\n"
   ]
  }
 ],
 "metadata": {
  "kernelspec": {
   "display_name": "Python 3",
   "language": "python",
   "name": "python3"
  },
  "language_info": {
   "codemirror_mode": {
    "name": "ipython",
    "version": 3
   },
   "file_extension": ".py",
   "mimetype": "text/x-python",
   "name": "python",
   "nbconvert_exporter": "python",
   "pygments_lexer": "ipython3",
   "version": "3.5.3"
  }
 },
 "nbformat": 4,
 "nbformat_minor": 1
}
